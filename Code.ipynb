{
 "cells": [
  {
   "cell_type": "code",
   "execution_count": 5,
   "metadata": {},
   "outputs": [],
   "source": [
    "import pandas as pd\n",
    "import numpy as np\n",
    "import networkx as nx\n",
    "import operator as op\n",
    "import itertools\n",
    "import matplotlib.pyplot as plt\n",
    "import numpy.linalg\n",
    "import cmath\n",
    "import multiprocessing\n",
    "import itertools\n",
    "import scipy.optimize as optimize\n",
    "\n",
    "%matplotlib inline"
   ]
  },
  {
   "cell_type": "code",
   "execution_count": 6,
   "metadata": {},
   "outputs": [],
   "source": [
    "#Load the dataset\n",
    "data=pd.read_csv(\"sx-stackoverflow.txt\", sep=\" \", header=None)\n",
    "#Rename the columns\n",
    "data.columns= [\"source_id\", \"target_id\", \"timestamp\"]"
   ]
  },
  {
   "cell_type": "markdown",
   "metadata": {},
   "source": [
    "For testing purpose,we decided to create a smaller dataset with only 1000 records"
   ]
  },
  {
   "cell_type": "code",
   "execution_count": 7,
   "metadata": {},
   "outputs": [],
   "source": [
    "#Create a small dataset for testing\n",
    "dataset=data.iloc[0:1000]"
   ]
  },
  {
   "cell_type": "markdown",
   "metadata": {},
   "source": [
    "Also we created a smaller dummy dataset in order to evaluate the results by hand the results"
   ]
  },
  {
   "cell_type": "code",
   "execution_count": 8,
   "metadata": {},
   "outputs": [],
   "source": [
    "#Dummy Data set\n",
    "dummy=pd.DataFrame([[9, 2, 1],[8, 2, 2],[5, 2, 5],[8, 2, 7],[5, 2, 10]\n",
    "                      ,[5, 2, 12],[7, 2, 16],[11, 2, 20],[5, 2, 21]],columns = [\"source_id\", \"target_id\", \"timestamp\"])    \n",
    "\n",
    "dummy.source_id = dummy.source_id.astype(int)\n",
    "dummy.target_id = dummy.target_id.astype(int)\n",
    "t_min=dummy.timestamp.min()\n",
    "t_max=dummy.timestamp.max()\n",
    "N=10\n"
   ]
  },
  {
   "cell_type": "markdown",
   "metadata": {},
   "source": [
    "## Part I"
   ]
  },
  {
   "cell_type": "markdown",
   "metadata": {},
   "source": [
    "The following function takes two arguments, the dataset and a number. It splits the dataset in N time intervals."
   ]
  },
  {
   "cell_type": "code",
   "execution_count": 9,
   "metadata": {},
   "outputs": [],
   "source": [
    "def create_intervals(dataset,N):\n",
    "\n",
    "\n",
    "    t_min=dataset.timestamp.min()\n",
    "    t_max=dataset.timestamp.max()\n",
    "\n",
    "\n",
    "    dt=(t_max-t_min)/N\n",
    "    \n",
    "    intervals=[]\n",
    "    for j in range(0,N):\n",
    "\n",
    "        #Start of time interval\n",
    "        tj=t_min + j*dt\n",
    "        \n",
    "        #End of time interval\n",
    "        tj1=t_min +(j+1)*dt\n",
    "\n",
    "        intervals.append([int(tj),int(tj1)])\n",
    "\n",
    "    return(intervals)"
   ]
  },
  {
   "cell_type": "markdown",
   "metadata": {},
   "source": [
    "We decided to create a custom python class for graph objects with four properties. The properties are:\n",
    "\n",
    "* t0 : The stasting time\n",
    "* t1 : The ending time\n",
    "* dataset : The dataset\n",
    "* interval : The time range [t0,t1]"
   ]
  },
  {
   "cell_type": "code",
   "execution_count": 10,
   "metadata": {},
   "outputs": [],
   "source": [
    "class graph(object):\n",
    "    def __init__(self,dataset, t0,t1):\n",
    "        self.t0 = t0\n",
    "        self.t1 = t1\n",
    "        self.dataset = dataset\n",
    "        self.create_graph()\n",
    "        self.interval=[t0,t1]\n",
    "        \n",
    "    def create_graph(self):\n",
    "        self.batch = self.create_batch()\n",
    "        self.graph = nx.from_pandas_edgelist(self.batch, 'source_id', 'target_id')\n",
    "        \n",
    "\n",
    "    def create_batch(self):\n",
    "        \n",
    "        df_indexes=[]\n",
    "        index = 0\n",
    "        self.dataset = self.dataset.reset_index(drop=True)\n",
    "            \n",
    "        if self.t1 == self.dataset.timestamp.max():\n",
    "            while index < len(self.dataset)and self.dataset.timestamp[index]<=self.t1 :\n",
    "                if self.dataset.timestamp[index]>=self.t0:\n",
    "                    df_indexes.append(index)\n",
    "                    \n",
    "                index = index +1\n",
    "\n",
    "            batch = self.dataset.iloc[df_indexes]\n",
    "\n",
    "            return(batch)\n",
    "\n",
    "        else:\n",
    "            while index < len(self.dataset)and self.dataset.timestamp[index]<self.t1 :\n",
    "                if self.dataset.timestamp[index]>=self.t0:\n",
    "                    df_indexes.append(index)\n",
    "                    \n",
    "                index = index +1\n",
    "\n",
    "            batch = self.dataset.iloc[df_indexes]\n",
    "            \n",
    "            return(batch)\n",
    "        \n"
   ]
  },
  {
   "cell_type": "markdown",
   "metadata": {},
   "source": [
    "For the following questions we created functions which compute the volume(count) of the edges and vertices."
   ]
  },
  {
   "cell_type": "code",
   "execution_count": 11,
   "metadata": {},
   "outputs": [],
   "source": [
    "def graph_vertices_volume(dataset,N):\n",
    "    \n",
    "    time_intervals = create_intervals(dataset,N)\n",
    "    nodes_count_list=[]\n",
    "\n",
    "    for time_interval in time_intervals:\n",
    "        G=graph(dataset, time_interval[0], time_interval[1])\n",
    "        nodes_count_list.append(len(G.graph.nodes()))\n",
    "        \n",
    "    return(nodes_count_list)\n",
    "       \n",
    "\n",
    "def vertices_graph(dataset,N):\n",
    "    T=[]\n",
    "\n",
    "    time_intervals = create_intervals(dataset,N)\n",
    "    for time_interval in time_intervals:\n",
    "        T.append(time_interval[0])\n",
    "\n",
    "    x = T  \n",
    "    y = graph_vertices_volume(dataset,N)\n",
    "\n",
    "    N = len(y)\n",
    "    x = range(N)\n",
    "    width = 1/1.5\n",
    "    \n",
    "    plt.subplot(1, 2, 1)\n",
    "    plt.title('Vertices Histogram')\n",
    "    plt.xlabel('Time Intervals Bins')\n",
    "    plt.ylabel('Number of Vertices')\n",
    "    plt.bar(x, y, align='edge',color=\"blue\")"
   ]
  },
  {
   "cell_type": "code",
   "execution_count": 12,
   "metadata": {},
   "outputs": [],
   "source": [
    "def graph_edges_volume(dataset,N):\n",
    "    \n",
    "    time_intervals = create_intervals(dataset,N)\n",
    "    edges_count_list=[]\n",
    "\n",
    "    for time_interval in time_intervals:\n",
    "        G=graph(dataset, time_interval[0], time_interval[1])\n",
    "        edges_count_list.append(len(G.graph.edges()))\n",
    "        \n",
    "    return(edges_count_list)\n",
    "       \n",
    "\n",
    "def edges_graph(dataset,N):\n",
    "    T=[]\n",
    "\n",
    "    time_intervals = create_intervals(dataset,N)\n",
    "    for time_interval in time_intervals:\n",
    "        T.append(time_interval[0])\n",
    "\n",
    "    x = T  \n",
    "    y = graph_edges_volume(dataset,N)\n",
    "\n",
    "    N = len(y)\n",
    "    x = range(N)\n",
    "    width = 1/1.5\n",
    "    \n",
    "    plt.subplot(1, 2, 2)\n",
    "    plt.title('Edges Histogram')\n",
    "    plt.xlabel('Time Intervals Bins')\n",
    "    plt.ylabel('Number of Edges')\n",
    "    plt.bar(x, y, align='edge',color=\"magenta\")"
   ]
  },
  {
   "cell_type": "markdown",
   "metadata": {},
   "source": [
    "The original dataset is very large and the computations take a lot of time. So, we create a plitting function that help us to\n",
    "manipulate this large dataset.Finally, we create n-smaller dataset and then we split each one in N-number of intervals."
   ]
  },
  {
   "cell_type": "code",
   "execution_count": 13,
   "metadata": {},
   "outputs": [],
   "source": [
    "def graph_creator(dataset, n, N):\n",
    "    data_rows = len(dataset)\n",
    "    step = round(data_rows/n)\n",
    "    start=0\n",
    "    stop=step\n",
    "    for pointer in range(0,data_rows,step):\n",
    "        \n",
    "        vertices_graph(dataset.iloc[start:stop],N)\n",
    "        edges_graph(dataset.iloc[start:stop],N)\n",
    "        \n",
    "        plt.tight_layout()\n",
    "        plt.show()\n",
    "        plt.clf()\n",
    "        \n",
    "        start = start + step\n",
    "        stop = start + step\n"
   ]
  },
  {
   "cell_type": "code",
   "execution_count": 94,
   "metadata": {},
   "outputs": [
    {
     "data": {
      "image/png": "[encoded data removed]",
      "text/plain": [
       "<Figure size 432x288 with 2 Axes>"
      ]
     },
     "metadata": {},
     "output_type": "display_data"
    },
    {
     "data": {
      "image/png": "[encoded data removed]",
      "text/plain": [
       "<Figure size 432x288 with 2 Axes>"
      ]
     },
     "metadata": {},
     "output_type": "display_data"
    },
    {
     "data": {
      "image/png": "[encoded data removed]",
      "text/plain": [
       "<Figure size 432x288 with 2 Axes>"
      ]
     },
     "metadata": {},
     "output_type": "display_data"
    },
    {
     "data": {
      "image/png": "[encoded data removed]",
      "text/plain": [
       "<Figure size 432x288 with 2 Axes>"
      ]
     },
     "metadata": {},
     "output_type": "display_data"
    },
    {
     "data": {
      "text/plain": [
       "<Figure size 432x288 with 0 Axes>"
      ]
     },
     "metadata": {},
     "output_type": "display_data"
    }
   ],
   "source": [
    "#e.x we take the batch1_dataset and we split it in 4 smaller datasets and 100 intervals each one\n",
    "graph_creator(dataset,4,100) "
   ]
  },
  {
   "cell_type": "code",
   "execution_count": 10,
   "metadata": {},
   "outputs": [],
   "source": [
    "def compute_n_plot_centralities(G):\n",
    "    \n",
    "    f = plt.figure(figsize=(15,15))\n",
    "    ax1 = f.add_subplot(231)\n",
    "    ax2 = f.add_subplot(232)\n",
    "    ax3 = f.add_subplot(233)\n",
    "    ax4 = f.add_subplot(234)\n",
    "    ax5 = f.add_subplot(235)\n",
    "    \n",
    "    #Degree Centrality\n",
    "    dc = nx.degree_centrality(G.graph)\n",
    "    dc_values = np.asarray(list(dc.values()))\n",
    "    ax1.hist(dc_values, weights = np.zeros_like(dc_values) + 1. / dc_values.size)\n",
    "    ax1.set_ylabel('Relative Frequency')\n",
    "    ax1.set_title('Degree Centrality')\n",
    "\n",
    "    #Closeness Centrality\n",
    "    cc = nx.closeness_centrality(G.graph)\n",
    "    cc_values = np.asarray(list(cc.values()))\n",
    "    ax2.hist(cc_values, weights = np.zeros_like(cc_values) + 1. / cc_values.size)\n",
    "    ax2.set_title('Closeness Centrality')\n",
    "\n",
    "    #Betweenness Centrality\n",
    "    bc = nx.betweenness_centrality(G.graph)\n",
    "    bc_values = np.asarray(list(bc.values()))\n",
    "    ax3.hist(bc_values, weights = np.zeros_like(bc_values) + 1. / bc_values.size)\n",
    "    ax3.set_title('Betweeness Centrality')\n",
    "\n",
    "    #Eigenvector Centrality\n",
    "    ec = nx.eigenvector_centrality_numpy(G.graph)\n",
    "    ec_values = np.asarray(list(ec.values()))\n",
    "    ax4.hist(ec_values, weights = np.zeros_like(ec_values) + 1. / ec_values.size)\n",
    "    ax4.set_ylabel('Relative Frequency')\n",
    "    ax4.set_xlabel('Normalized Centrality Measure Values')\n",
    "    ax4.set_title('Eigenvector Centrality') \n",
    "    \n",
    "    #Katz Centrality\n",
    "    L = nx.normalized_laplacian_matrix(G.graph)\n",
    "    e = numpy.linalg.eigvals(L.A)\n",
    "    kc = nx.katz_centrality_numpy(G.graph, max(e).real)\n",
    "    kc_values = np.asarray(list(kc.values()))\n",
    "    ax5.hist(kc_values, weights = np.zeros_like(kc_values) + 1. / kc_values.size)\n",
    "    ax5.set_xlabel('Normalized Centrality Measure Values')\n",
    "    ax5.set_title('Katz Centrality')\n",
    "      \n",
    "    plt.show()"
   ]
  },
  {
   "cell_type": "markdown",
   "metadata": {},
   "source": [
    "The following function runs the compute_n_plot_centralities function for all subgraphs (n-smaller datasets and  N-time intervals)"
   ]
  },
  {
   "cell_type": "code",
   "execution_count": 11,
   "metadata": {},
   "outputs": [],
   "source": [
    "def graph_centralities_creator(dataset, n, N):\n",
    "    data_rows = len(dataset)\n",
    "    step = round(data_rows/n)\n",
    "    start=0\n",
    "    stop=step\n",
    "    \n",
    "    for pointer in range(0,data_rows,step):\n",
    "        \n",
    "        intervals = create_intervals(dataset.iloc[start:stop],N)\n",
    "        \n",
    "        for interval in intervals:\n",
    "            G=graph(dataset.iloc[start:stop],interval[0],interval[1])\n",
    "            compute_n_plot_centralities(G)\n",
    "        \n",
    "        start = start + step\n",
    "        stop = start + step"
   ]
  },
  {
   "cell_type": "code",
   "execution_count": 222,
   "metadata": {},
   "outputs": [
    {
     "data": {
      "image/png": "[encoded data removed]",
      "text/plain": [
       "<Figure size 1080x1080 with 5 Axes>"
      ]
     },
     "metadata": {},
     "output_type": "display_data"
    },
    {
     "ename": "ZeroDivisionError",
     "evalue": "float division by zero",
     "output_type": "error",
     "traceback": [
      "\u001b[1;31m---------------------------------------------------------------------------\u001b[0m",
      "\u001b[1;31mZeroDivisionError\u001b[0m                         Traceback (most recent call last)",
      "\u001b[1;32m<ipython-input-222-b6c02d0addcc>\u001b[0m in \u001b[0;36m<module>\u001b[1;34m()\u001b[0m\n\u001b[1;32m----> 1\u001b[1;33m \u001b[0mgraph_centralities_creator\u001b[0m\u001b[1;33m(\u001b[0m\u001b[0mdataset\u001b[0m\u001b[1;33m,\u001b[0m\u001b[1;36m4\u001b[0m\u001b[1;33m,\u001b[0m\u001b[1;36m7\u001b[0m\u001b[1;33m)\u001b[0m\u001b[1;33m\u001b[0m\u001b[0m\n\u001b[0m",
      "\u001b[1;32m<ipython-input-221-0aa6d722acc2>\u001b[0m in \u001b[0;36mgraph_centralities_creator\u001b[1;34m(dataset, n, N)\u001b[0m\n\u001b[0;32m     11\u001b[0m         \u001b[1;32mfor\u001b[0m \u001b[0minterval\u001b[0m \u001b[1;32min\u001b[0m \u001b[0mintervals\u001b[0m\u001b[1;33m:\u001b[0m\u001b[1;33m\u001b[0m\u001b[0m\n\u001b[0;32m     12\u001b[0m             \u001b[0mG\u001b[0m\u001b[1;33m=\u001b[0m\u001b[0mgraph\u001b[0m\u001b[1;33m(\u001b[0m\u001b[0mdataset\u001b[0m\u001b[1;33m.\u001b[0m\u001b[0miloc\u001b[0m\u001b[1;33m[\u001b[0m\u001b[0mstart\u001b[0m\u001b[1;33m:\u001b[0m\u001b[0mstop\u001b[0m\u001b[1;33m]\u001b[0m\u001b[1;33m,\u001b[0m\u001b[0minterval\u001b[0m\u001b[1;33m[\u001b[0m\u001b[1;36m0\u001b[0m\u001b[1;33m]\u001b[0m\u001b[1;33m,\u001b[0m\u001b[0minterval\u001b[0m\u001b[1;33m[\u001b[0m\u001b[1;36m1\u001b[0m\u001b[1;33m]\u001b[0m\u001b[1;33m)\u001b[0m\u001b[1;33m\u001b[0m\u001b[0m\n\u001b[1;32m---> 13\u001b[1;33m             \u001b[0mcompute_n_plot_centralities\u001b[0m\u001b[1;33m(\u001b[0m\u001b[0mG\u001b[0m\u001b[1;33m)\u001b[0m\u001b[1;33m\u001b[0m\u001b[0m\n\u001b[0m\u001b[0;32m     14\u001b[0m \u001b[1;33m\u001b[0m\u001b[0m\n\u001b[0;32m     15\u001b[0m         \u001b[0mstart\u001b[0m \u001b[1;33m=\u001b[0m \u001b[0mstart\u001b[0m \u001b[1;33m+\u001b[0m \u001b[0mstep\u001b[0m\u001b[1;33m\u001b[0m\u001b[0m\n",
      "\u001b[1;32m<ipython-input-220-474a98431db4>\u001b[0m in \u001b[0;36mcompute_n_plot_centralities\u001b[1;34m(G)\u001b[0m\n\u001b[0;32m     11\u001b[0m     \u001b[0mdc\u001b[0m \u001b[1;33m=\u001b[0m \u001b[0mnx\u001b[0m\u001b[1;33m.\u001b[0m\u001b[0mdegree_centrality\u001b[0m\u001b[1;33m(\u001b[0m\u001b[0mG\u001b[0m\u001b[1;33m.\u001b[0m\u001b[0mgraph\u001b[0m\u001b[1;33m)\u001b[0m\u001b[1;33m\u001b[0m\u001b[0m\n\u001b[0;32m     12\u001b[0m     \u001b[0mdc_values\u001b[0m \u001b[1;33m=\u001b[0m \u001b[0mnp\u001b[0m\u001b[1;33m.\u001b[0m\u001b[0masarray\u001b[0m\u001b[1;33m(\u001b[0m\u001b[0mlist\u001b[0m\u001b[1;33m(\u001b[0m\u001b[0mdc\u001b[0m\u001b[1;33m.\u001b[0m\u001b[0mvalues\u001b[0m\u001b[1;33m(\u001b[0m\u001b[1;33m)\u001b[0m\u001b[1;33m)\u001b[0m\u001b[1;33m)\u001b[0m\u001b[1;33m\u001b[0m\u001b[0m\n\u001b[1;32m---> 13\u001b[1;33m     \u001b[0max1\u001b[0m\u001b[1;33m.\u001b[0m\u001b[0mhist\u001b[0m\u001b[1;33m(\u001b[0m\u001b[0mdc_values\u001b[0m\u001b[1;33m,\u001b[0m \u001b[0mweights\u001b[0m \u001b[1;33m=\u001b[0m \u001b[0mnp\u001b[0m\u001b[1;33m.\u001b[0m\u001b[0mzeros_like\u001b[0m\u001b[1;33m(\u001b[0m\u001b[0mdc_values\u001b[0m\u001b[1;33m)\u001b[0m \u001b[1;33m+\u001b[0m \u001b[1;36m1.\u001b[0m \u001b[1;33m/\u001b[0m \u001b[0mdc_values\u001b[0m\u001b[1;33m.\u001b[0m\u001b[0msize\u001b[0m\u001b[1;33m)\u001b[0m\u001b[1;33m\u001b[0m\u001b[0m\n\u001b[0m\u001b[0;32m     14\u001b[0m     \u001b[0max1\u001b[0m\u001b[1;33m.\u001b[0m\u001b[0mset_ylabel\u001b[0m\u001b[1;33m(\u001b[0m\u001b[1;34m'Relative Frequency'\u001b[0m\u001b[1;33m)\u001b[0m\u001b[1;33m\u001b[0m\u001b[0m\n\u001b[0;32m     15\u001b[0m     \u001b[0max1\u001b[0m\u001b[1;33m.\u001b[0m\u001b[0mset_title\u001b[0m\u001b[1;33m(\u001b[0m\u001b[1;34m'Degree Centrality'\u001b[0m\u001b[1;33m)\u001b[0m\u001b[1;33m\u001b[0m\u001b[0m\n",
      "\u001b[1;31mZeroDivisionError\u001b[0m: float division by zero"
     ]
    },
    {
     "data": {
      "image/png": "[encoded data removed]",
      "text/plain": [
       "<Figure size 1080x1080 with 5 Axes>"
      ]
     },
     "metadata": {},
     "output_type": "display_data"
    }
   ],
   "source": [
    "graph_centralities_creator(dataset,4,7)"
   ]
  },
  {
   "cell_type": "markdown",
   "metadata": {},
   "source": [
    "# Part II"
   ]
  },
  {
   "cell_type": "markdown",
   "metadata": {},
   "source": [
    "In this part we have to compute the common vertices between two time intervals (vertices_intersection) and the edges  in the first time interval(E_prev_set) and then to the following(E_next_set)."
   ]
  },
  {
   "cell_type": "code",
   "execution_count": 12,
   "metadata": {},
   "outputs": [],
   "source": [
    "def vertices_intersection(dataset,t0,t1,t2):\n",
    "    \n",
    "    #Create two graphs\n",
    "    G1 = graph(dataset,t0,t1) #for t-1,t\n",
    "    G2 = graph(dataset,t1,t2) #for t, t+1\n",
    "    \n",
    "    S1=set(G1.graph.nodes())\n",
    "    S2=set(G1.graph.nodes())\n",
    "    \n",
    "    return set.intersection(S1,S2) #Return the common nodes"
   ]
  },
  {
   "cell_type": "code",
   "execution_count": 13,
   "metadata": {},
   "outputs": [],
   "source": [
    "def E_prev_set(dataset,t0,t1,t2):\n",
    "    \n",
    "    #Calculate the intersection\n",
    "    G1 = graph(dataset,t0,t1) #for t-1,t\n",
    "    G2 = graph(dataset,t1,t2) #for t, t+1\n",
    "    \n",
    "    S1 = set(G1.graph.nodes())\n",
    "    S2 = set(G1.graph.nodes())\n",
    "    \n",
    "    intersection = set.intersection(S1,S2)\n",
    "\n",
    "    #Calculate the the intersection vertices in [t-1, t)\n",
    "    df = pd.DataFrame(columns = [\"source_id\", \"target_id\", \"timestamp\"])\n",
    "    for row in G1.batch.itertuples():\n",
    "        if (intersection is not set()) and(row.source_id and row.target_id in intersection) and (t0<=row.timestamp<t1):\n",
    "            df = pd.concat([df,pd.DataFrame([row])],axis = 0)\n",
    "    \n",
    "    if not df.empty:\n",
    "        del df['Index']\n",
    "        df=df.reset_index(drop=True)\n",
    "\n",
    "        #Calculate the intersection edges in [t-1, t)\n",
    "        G= graph(df,t0,t1)\n",
    "\n",
    "        return set(G.graph.edges())"
   ]
  },
  {
   "cell_type": "code",
   "execution_count": 14,
   "metadata": {},
   "outputs": [],
   "source": [
    "def E_next_set(dataset,t0,t1,t2):\n",
    "    \n",
    "    #Calculate the intersection\n",
    "    G1 = graph(dataset,t0,t1) #for t-1,t\n",
    "    G2 = graph(dataset,t1,t2) #for t, t+1\n",
    "    \n",
    "    S1 = set(G1.graph.nodes())\n",
    "    S2 = set(G1.graph.nodes())\n",
    "    \n",
    "    intersection = set.intersection(S1,S2)\n",
    "    \n",
    "    #Calculate the the intersection vertices in [t, t+1)\n",
    "    df = pd.DataFrame(columns = [\"source_id\", \"target_id\", \"timestamp\"])\n",
    "    for row in G2.batch.itertuples():\n",
    "        if (row.source_id and row.target_id in intersection) and (t1<=row.timestamp<t2):\n",
    "            df = pd.concat([df,pd.DataFrame([row])],axis = 0)\n",
    "    \n",
    "    if not df.empty:\n",
    "        del df['Index']\n",
    "        df=df.reset_index(drop=True)\n",
    "\n",
    "        #Calculate the intersection edges in [t, t+1)\n",
    "        G= graph(df,t1,t2)\n",
    "\n",
    "        return set(G.graph.edges())"
   ]
  },
  {
   "cell_type": "markdown",
   "metadata": {},
   "source": [
    "### Graphical Representation of the Volumes"
   ]
  },
  {
   "cell_type": "code",
   "execution_count": 15,
   "metadata": {},
   "outputs": [],
   "source": [
    "def vertices_volume(dataset,N):\n",
    "    \n",
    "    time_intervals = create_intervals(dataset,N)\n",
    "    intersection_list=[]\n",
    "    i = 0\n",
    "    for time_interval in time_intervals:\n",
    "        if i < (len(time_intervals)-1):\n",
    "            dt = time_interval[1] - time_interval[0]\n",
    "            intersection_list.append(len(vertices_intersection(dataset, time_interval[0], time_interval[1], time_interval[1] + dt)))\n",
    "    \n",
    "        \n",
    "    return(intersection_list)\n",
    "\n",
    "def create_vertices_graph(dataset,N):\n",
    "    T=[]\n",
    "\n",
    "    time_intervals = create_intervals(dataset,N)\n",
    "    for time_interval in time_intervals:\n",
    "        T.append(time_interval[0])\n",
    "\n",
    "    x = T  \n",
    "    y = vertices_volume(dataset,N)\n",
    "\n",
    "    N = len(y)\n",
    "    x = range(N)\n",
    "    width = 1/1.5\n",
    "    \n",
    "    plt.subplot(1, 3, 1)\n",
    "    plt.title('Vertices Histogram')\n",
    "    plt.xlabel('Time Intervals Bins')\n",
    "    plt.ylabel('Vertices Volume') \n",
    "    plt.bar(x, y, align='edge',color=\"blue\")"
   ]
  },
  {
   "cell_type": "code",
   "execution_count": 16,
   "metadata": {},
   "outputs": [],
   "source": [
    "def edges_prev_volume(dataset,N):\n",
    "    \n",
    "    time_intervals = create_intervals(dataset,N)\n",
    "    prev_edge_list=[]\n",
    "    i = 0\n",
    "    for time_interval in time_intervals:\n",
    "        if i < (len(time_intervals)-1):\n",
    "            dt = time_interval[1] - time_interval[0]\n",
    "            if E_prev_set(dataset, time_interval[0], time_interval[1], time_interval[1] + dt) is not None:\n",
    "                prev_edge_list.append(len(E_prev_set(dataset, time_interval[0], time_interval[1], time_interval[1] + dt)))\n",
    "    \n",
    "        \n",
    "    return(prev_edge_list)\n",
    "\n",
    "def create_prev_edge_graph(dataset,N):\n",
    "    T=[]\n",
    "\n",
    "    time_intervals = create_intervals(dataset,N)\n",
    "    for time_interval in time_intervals:\n",
    "        T.append(time_interval[0])\n",
    "\n",
    "    x = T  \n",
    "    y = edges_prev_volume(dataset,N)\n",
    "\n",
    "    N = len(y)\n",
    "    x = range(N)\n",
    "    width = 1/1.5\n",
    "    \n",
    "    plt.subplot(1, 3, 2)\n",
    "    plt.title('Edges_prev Histogram')\n",
    "    plt.xlabel('Time Intervals Bins')\n",
    "    plt.ylabel('Edges Volume') \n",
    "    plt.bar(x, y, align='edge',color=\"magenta\")\n",
    "    "
   ]
  },
  {
   "cell_type": "code",
   "execution_count": 17,
   "metadata": {},
   "outputs": [],
   "source": [
    "def edges_next_volume(dataset,N):\n",
    "    \n",
    "    time_intervals = create_intervals(dataset,N)\n",
    "    next_edge_list=[]\n",
    "    i = 0\n",
    "    for time_interval in time_intervals:\n",
    "        if i < (len(time_intervals)-1):\n",
    "            dt = time_interval[1] - time_interval[0]\n",
    "            if E_next_set(dataset, time_interval[0], time_interval[1], time_interval[1] + dt) is not None:\n",
    "                next_edge_list.append(len(E_next_set(dataset, time_interval[0], time_interval[1], time_interval[1] + dt)))\n",
    "    \n",
    "        \n",
    "    return(next_edge_list)\n",
    "\n",
    "def create_next_edge_graph(dataset,N):\n",
    "    T=[]\n",
    "\n",
    "    time_intervals = create_intervals(dataset,N)\n",
    "    for time_interval in time_intervals:\n",
    "        T.append(time_interval[0])\n",
    "\n",
    "    x = T  \n",
    "    y = edges_next_volume(dataset,N)\n",
    "\n",
    "    N = len(y)\n",
    "    x = range(N)\n",
    "    width = 1/1.5\n",
    "\n",
    "    plt.subplot(1, 3, 3)\n",
    "    plt.title('Edges_next Histogram')\n",
    "    plt.xlabel('Time Intervals Bins')\n",
    "    plt.ylabel('Edges Volume') \n",
    "    plt.bar(x, y, align='edge',color=\"red\")"
   ]
  },
  {
   "cell_type": "code",
   "execution_count": 18,
   "metadata": {},
   "outputs": [],
   "source": [
    "def graph_volumes_creator(dataset, n, N):\n",
    "    data_rows = len(dataset)\n",
    "    step = round(data_rows/n)\n",
    "    start=0\n",
    "    stop=step\n",
    "    for pointer in range(0,data_rows,step):\n",
    "        \n",
    "        create_prev_edge_graph(dataset.iloc[start:stop],N)\n",
    "        create_next_edge_graph(dataset.iloc[start:stop],N)\n",
    "        create_vertices_graph(dataset.iloc[start:stop],N) \n",
    "        \n",
    "        plt.tight_layout()\n",
    "        plt.show()\n",
    "        plt.clf()\n",
    "        \n",
    "        start = start + step\n",
    "        stop = start + step"
   ]
  },
  {
   "cell_type": "code",
   "execution_count": 97,
   "metadata": {},
   "outputs": [
    {
     "name": "stderr",
     "output_type": "stream",
     "text": [
      "C:\\Users\\giorgos.papachristou\\AppData\\Local\\Continuum\\anaconda3\\lib\\site-packages\\ipykernel_launcher.py:16: FutureWarning:\n",
      "\n",
      "Sorting because non-concatenation axis is not aligned. A future version\n",
      "of pandas will change to not sort by default.\n",
      "\n",
      "To accept the future behavior, pass 'sort=True'.\n",
      "\n",
      "To retain the current behavior and silence the warning, pass sort=False\n",
      "\n",
      "\n"
     ]
    },
    {
     "data": {
      "image/png": "[encoded data removed]",
      "text/plain": [
       "<Figure size 432x288 with 3 Axes>"
      ]
     },
     "metadata": {},
     "output_type": "display_data"
    },
    {
     "data": {
      "image/png": "[encoded data removed]",
      "text/plain": [
       "<Figure size 432x288 with 3 Axes>"
      ]
     },
     "metadata": {},
     "output_type": "display_data"
    },
    {
     "data": {
      "image/png": "[encoded data removed]",
      "text/plain": [
       "<Figure size 432x288 with 3 Axes>"
      ]
     },
     "metadata": {},
     "output_type": "display_data"
    },
    {
     "data": {
      "image/png": "[encoded data removed]",
      "text/plain": [
       "<Figure size 432x288 with 3 Axes>"
      ]
     },
     "metadata": {},
     "output_type": "display_data"
    },
    {
     "data": {
      "text/plain": [
       "<Figure size 432x288 with 0 Axes>"
      ]
     },
     "metadata": {},
     "output_type": "display_data"
    }
   ],
   "source": [
    "graph_volumes_creator(dataset,4,100)"
   ]
  },
  {
   "cell_type": "markdown",
   "metadata": {},
   "source": [
    "## Question 2"
   ]
  },
  {
   "cell_type": "code",
   "execution_count": 19,
   "metadata": {},
   "outputs": [],
   "source": [
    "def graph_distance(dataset,t0,t1,t2):\n",
    "    \n",
    "    vertices_list = sorted(vertices_intersection(dataset,t0,t1,t2))\n",
    "    edges_set = E_prev_set(dataset,t0,t1,t2)\n",
    "\n",
    "    #Create the graph Object\n",
    "    Gprev=nx.Graph()\n",
    "    \n",
    "    #Add the common vertices for the [t-1, t+1]\n",
    "    Gprev.add_nodes_from(vertices_list)\n",
    "    \n",
    "    #Take the edges of the [t-1, t) interval\n",
    "    if edges_set is not None:\n",
    "        Gprev.add_edges_from(edges_set)\n",
    "        \n",
    "        #Graph distance calculation\n",
    "        graph_matrix = pd.DataFrame(nx.floyd_warshall_numpy(Gprev), index=vertices_list, columns=vertices_list)\n",
    "        pd.options.display.float_format = '{:,.0f}'.format\n",
    "    \n",
    "        return(graph_matrix)"
   ]
  },
  {
   "cell_type": "markdown",
   "metadata": {},
   "source": [
    "Calculate the distance for all the time intervals"
   ]
  },
  {
   "cell_type": "code",
   "execution_count": 20,
   "metadata": {},
   "outputs": [],
   "source": [
    "def calculate_graph_distance(dataset, N):\n",
    "    \n",
    "    time_intervals = create_intervals(dataset,N)\n",
    "    \n",
    "    for time_interval in time_intervals:\n",
    "\n",
    "        dt = time_interval[1] - time_interval[0]\n",
    "        \n",
    "        #Graph Distance Calculation\n",
    "        matrix = -graph_distance(dataset, time_interval[0], time_interval[1], time_interval[1] + dt)\n",
    "        \n",
    "        if matrix is not None:\n",
    "            print(matrix)\n",
    "                 "
   ]
  },
  {
   "cell_type": "code",
   "execution_count": 21,
   "metadata": {},
   "outputs": [],
   "source": [
    "def calculate_graph_distance_for_all_pairs(dataset, n, N):\n",
    "    data_rows = len(dataset)\n",
    "    step = round(data_rows/n)\n",
    "    start=0\n",
    "    stop=step\n",
    "    for pointer in range(0,data_rows,step):\n",
    "        \n",
    "        calculate_graph_distance(dataset.iloc[start:stop], N)\n",
    "        \n",
    "        start = start + step\n",
    "        stop = start + step"
   ]
  },
  {
   "cell_type": "code",
   "execution_count": 14,
   "metadata": {},
   "outputs": [],
   "source": [
    "calculate_graph_distance_for_all_pairs(dataset,2, 10)"
   ]
  },
  {
   "cell_type": "code",
   "execution_count": 22,
   "metadata": {},
   "outputs": [],
   "source": [
    "def common_neighbors(dataset, t0,t1,t2):\n",
    "    \n",
    "    vertices_list = sorted(vertices_intersection(dataset,t0,t1,t2))\n",
    "    edges_set = E_prev_set(dataset,t0,t1,t2)\n",
    "    \n",
    "    #Create the graph Object\n",
    "    Gprev=nx.Graph()\n",
    "    \n",
    "    #Add the common vertices for the [t-1, t+1]\n",
    "    Gprev.add_nodes_from(vertices_list)\n",
    "    \n",
    "    #Take the edges of the [t-1, t) interval\n",
    "    if edges_set is not None:\n",
    "        Gprev.add_edges_from(edges_set)\n",
    "    \n",
    "    #Calculate all vertices permutations\n",
    "    permutations = list(itertools.permutations(vertices_list, 2))\n",
    "\n",
    "    df=pd.DataFrame(0,index=vertices_list, columns=vertices_list)\n",
    "\n",
    "    for u,v in permutations:\n",
    "\n",
    "        df.loc[u, v]= len(sorted(nx.common_neighbors(Gprev,u,v)))\n",
    "    \n",
    "    return(df)"
   ]
  },
  {
   "cell_type": "markdown",
   "metadata": {},
   "source": [
    "Calculate the distance for all the time intervals"
   ]
  },
  {
   "cell_type": "code",
   "execution_count": 23,
   "metadata": {},
   "outputs": [],
   "source": [
    "def calculate_common_neibhors_distance(dataset, N):\n",
    "    \n",
    "    time_intervals = create_intervals(dataset,N)\n",
    "    \n",
    "    for time_interval in time_intervals:\n",
    "\n",
    "        dt = time_interval[1] - time_interval[0]\n",
    "\n",
    "        #Common Neighbors Distance Calculation\n",
    "        matrix=common_neighbors(dataset, time_interval[0], time_interval[1], time_interval[1] + dt)\n",
    "        if not matrix.empty:\n",
    "            print(matrix)\n",
    "        "
   ]
  },
  {
   "cell_type": "code",
   "execution_count": 24,
   "metadata": {},
   "outputs": [],
   "source": [
    "def calculate_common_neibhors_distance_for_all_pairs(dataset, n, N):\n",
    "    data_rows = len(dataset)\n",
    "    step = round(data_rows/n)\n",
    "    start=0\n",
    "    stop=step\n",
    "    for pointer in range(0,data_rows,step):\n",
    "        \n",
    "        calculate_common_neibhors_distance(dataset.iloc[start:stop], N)\n",
    "        \n",
    "        start = start + step\n",
    "        stop = start + step"
   ]
  },
  {
   "cell_type": "code",
   "execution_count": 16,
   "metadata": {},
   "outputs": [],
   "source": [
    "calculate_common_neibhors_distance_for_all_pairs(dataset,2, 10)"
   ]
  },
  {
   "cell_type": "code",
   "execution_count": 25,
   "metadata": {},
   "outputs": [],
   "source": [
    "def jaccard_distance(dataset,t0,t1,t2):\n",
    "    \n",
    "    vertices_list = sorted(vertices_intersection(dataset,t0,t1,t2))\n",
    "    edges_set = E_prev_set(dataset,t0,t1,t2)\n",
    "\n",
    "    #Create the graph Object\n",
    "    Gprev=nx.Graph()\n",
    "    \n",
    "    #Add the common vertices for the [t-1, t+1]\n",
    "    Gprev.add_nodes_from(vertices_list)\n",
    "    \n",
    "    #Take the edges of the [t-1, t) interval\n",
    "    if edges_set is not None:\n",
    "        Gprev.add_edges_from(edges_set)\n",
    "    \n",
    "    jacc = list(nx.jaccard_coefficient(Gprev))\n",
    "\n",
    "    df=pd.DataFrame(0,index=vertices_list, columns=vertices_list)\n",
    "\n",
    "    for i in range(0,len(jacc)):\n",
    "        df.loc[jacc[i][0],jacc[i][1]] = jacc[i][2]\n",
    "        df.loc[jacc[i][1],jacc[i][0]] = jacc[i][2]\n",
    "        \n",
    "    return(df)   "
   ]
  },
  {
   "cell_type": "markdown",
   "metadata": {},
   "source": [
    "Calculate the distance for all the time intervals"
   ]
  },
  {
   "cell_type": "code",
   "execution_count": 26,
   "metadata": {},
   "outputs": [],
   "source": [
    "def calculate_jaccard_distance(dataset, N):\n",
    "    \n",
    "    time_intervals = create_intervals(dataset,N)\n",
    "    \n",
    "    for time_interval in time_intervals:\n",
    "\n",
    "        dt = time_interval[1] - time_interval[0]\n",
    "\n",
    "        #Common Neighbors Distance Calculation\n",
    "        matrix=jaccard_distance(dataset, time_interval[0], time_interval[1], time_interval[1] + dt)\n",
    "        if (matrix is not None) and (not matrix.empty):\n",
    "            print(matrix)"
   ]
  },
  {
   "cell_type": "code",
   "execution_count": 27,
   "metadata": {},
   "outputs": [],
   "source": [
    "def calculate_jaccard_distance_for_all_pairs(dataset, n, N):\n",
    "    data_rows = len(dataset)\n",
    "    step = round(data_rows/n)\n",
    "    start=0\n",
    "    stop=step\n",
    "    for pointer in range(0,data_rows,step):\n",
    "        \n",
    "        calculate_jaccard_distance(dataset.iloc[start:stop], N)\n",
    "        \n",
    "        start = start + step\n",
    "        stop = start + step"
   ]
  },
  {
   "cell_type": "code",
   "execution_count": 17,
   "metadata": {},
   "outputs": [],
   "source": [
    "calculate_jaccard_distance_for_all_pairs(dataset,2,10)"
   ]
  },
  {
   "cell_type": "code",
   "execution_count": 28,
   "metadata": {},
   "outputs": [],
   "source": [
    "def adamic_adar_distance(dataset,t0,t1,t2):\n",
    "    \n",
    "    vertices_list = sorted(vertices_intersection(dataset,t0,t1,t2))\n",
    "    edges_set = E_prev_set(dataset,t0,t1,t2)\n",
    "\n",
    "    #Create the graph Object\n",
    "    Gprev=nx.Graph()\n",
    "    \n",
    "    #Add the common vertices for the [t-1, t+1]\n",
    "    Gprev.add_nodes_from(vertices_list)\n",
    "    \n",
    "    #Take the edges of the [t-1, t) interval\n",
    "    if edges_set is not None:\n",
    "        Gprev.add_edges_from(edges_set)\n",
    "    \n",
    "    adam = list(nx.adamic_adar_index(Gprev))\n",
    "\n",
    "    df=pd.DataFrame(0,index=vertices_list, columns=vertices_list)\n",
    "\n",
    "    for i in range(0,len(adam)):\n",
    "        df.loc[adam[i][0],adam[i][1]] = adam[i][2]\n",
    "        df.loc[adam[i][1],adam[i][0]] = adam[i][2]\n",
    "        \n",
    "    return(df)\n"
   ]
  },
  {
   "cell_type": "markdown",
   "metadata": {},
   "source": [
    "Calculate the distance for all the time intervals"
   ]
  },
  {
   "cell_type": "code",
   "execution_count": 29,
   "metadata": {},
   "outputs": [],
   "source": [
    "def calculate_adamic_adar_distance(dataset, N):\n",
    "    \n",
    "    time_intervals = create_intervals(dataset,N)\n",
    "    \n",
    "    for time_interval in time_intervals:\n",
    "\n",
    "        dt = time_interval[1] - time_interval[0]\n",
    "\n",
    "        #Common Neighbors Distance Calculation\n",
    "        matrix=adamic_adar_distance(dataset, time_interval[0], time_interval[1], time_interval[1] + dt)\n",
    "        if (matrix is not None) and (not matrix.empty):\n",
    "            print(matrix)"
   ]
  },
  {
   "cell_type": "code",
   "execution_count": 30,
   "metadata": {},
   "outputs": [],
   "source": [
    "def calculate_adamic_adar_distance_for_all_pairs(dataset, n, N):\n",
    "    data_rows = len(dataset)\n",
    "    step = round(data_rows/n)\n",
    "    start=0\n",
    "    stop=step\n",
    "    for pointer in range(0,data_rows,step):\n",
    "        \n",
    "        calculate_adamic_adar_distance(dataset.iloc[start:stop], N)\n",
    "        \n",
    "        start = start + step\n",
    "        stop = start + step"
   ]
  },
  {
   "cell_type": "code",
   "execution_count": 18,
   "metadata": {},
   "outputs": [],
   "source": [
    "calculate_adamic_adar_distance_for_all_pairs(dataset,2,10)"
   ]
  },
  {
   "cell_type": "code",
   "execution_count": 31,
   "metadata": {},
   "outputs": [],
   "source": [
    "def preferencial_attachment(dataset,t0,t1,t2):\n",
    "    \n",
    "    vertices_list = sorted(vertices_intersection(dataset,t0,t1,t2))\n",
    "    edges_set = E_prev_set(dataset,t0,t1,t2)\n",
    "\n",
    "    #Create the graph Object\n",
    "    Gprev=nx.Graph()\n",
    "    \n",
    "    #Add the common vertices for the [t-1, t+1]\n",
    "    Gprev.add_nodes_from(vertices_list)\n",
    "    \n",
    "    #Take the edges of the [t-1, t) interval\n",
    "    if edges_set is not None:\n",
    "        Gprev.add_edges_from(edges_set)\n",
    "    \n",
    "    pref = list(nx.preferential_attachment(Gprev))\n",
    "\n",
    "    df=pd.DataFrame(0,index=vertices_list, columns=vertices_list)\n",
    "\n",
    "    for i in range(0,len(pref)):\n",
    "            df.loc[pref[i][0],pref[i][1]] = pref[i][2]\n",
    "            df.loc[pref[i][1],pref[i][0]] = pref[i][2]\n",
    "            \n",
    "    return(df)"
   ]
  },
  {
   "cell_type": "markdown",
   "metadata": {},
   "source": [
    "Calculate the distance for all the time intervals"
   ]
  },
  {
   "cell_type": "code",
   "execution_count": 32,
   "metadata": {},
   "outputs": [],
   "source": [
    "def calculate_preferencial_attachment_distance(dataset, N):\n",
    "    \n",
    "    time_intervals = create_intervals(dataset,N)\n",
    "    \n",
    "    for time_interval in time_intervals:\n",
    "\n",
    "        dt = time_interval[1] - time_interval[0]\n",
    "\n",
    "        #Common Neighbors Distance Calculation\n",
    "        matrix=preferencial_attachment(dataset, time_interval[0], time_interval[1], time_interval[1] + dt)\n",
    "        if (matrix is not None) and (not matrix.empty):\n",
    "            print(matrix)"
   ]
  },
  {
   "cell_type": "code",
   "execution_count": 33,
   "metadata": {},
   "outputs": [],
   "source": [
    "def calculate_preferencial_attachment_distance_for_all_pairs(dataset, n, N):\n",
    "    data_rows = len(dataset)\n",
    "    step = round(data_rows/n)\n",
    "    start=0\n",
    "    stop=step\n",
    "    for pointer in range(0,data_rows,step):\n",
    "        \n",
    "        calculate_preferencial_attachment_distance(dataset.iloc[start:stop], N)\n",
    "        \n",
    "        start = start + step\n",
    "        stop = start + step"
   ]
  },
  {
   "cell_type": "code",
   "execution_count": 19,
   "metadata": {},
   "outputs": [],
   "source": [
    "calculate_preferencial_attachment_distance_for_all_pairs(dataset,2,10)"
   ]
  },
  {
   "cell_type": "markdown",
   "metadata": {},
   "source": [
    "# Part III"
   ]
  },
  {
   "cell_type": "markdown",
   "metadata": {},
   "source": [
    "### ACC Function for Graph Distance Similarity Measure"
   ]
  },
  {
   "cell_type": "code",
   "execution_count": 56,
   "metadata": {},
   "outputs": [],
   "source": [
    "def Graph_Distance_prev_ACC(dataset,N,Rxmin,Rxmax):\n",
    "    \n",
    "    ACC=[]\n",
    "    \n",
    "    #Calculation of TPR\n",
    "\n",
    "    #Calculate the E*x[t-1,t+1]\n",
    "    time_intervals = create_intervals(dataset,N)  \n",
    "    for time_interval in time_intervals:\n",
    "        \n",
    "        TNR_flag = False\n",
    "        TPR_flag = False\n",
    "\n",
    "        dt = time_interval[1] - time_interval[0]\n",
    "\n",
    "        t0 = time_interval[0]\n",
    "        t1 = time_interval[1]\n",
    "        t2 = time_interval[1] + dt\n",
    "\n",
    "        #Calculation of λ\n",
    "        E0 = len(vertices_intersection(dataset,t0,t1,t2))**2\n",
    "        \n",
    "        E_set=E_prev_set(dataset,t0,t1,t2)\n",
    "\n",
    "        if E_set is not None:\n",
    "            actual_edges = len(E_set)\n",
    "        else:\n",
    "            actual_edges = 0\n",
    "\n",
    "        if E0 is not 0:\n",
    "            lamda = actual_edges/E0\n",
    "\n",
    "\n",
    "        #Common Neighbors Distance Calculation\n",
    "        matrix=graph_distance(dataset, t0, t1, t2)\n",
    "        filtered_edges = set()\n",
    "        if (matrix is not None) and (not matrix.empty):\n",
    "            for i in matrix.index:\n",
    "                for j in matrix.index:\n",
    "                    if i>j:\n",
    "                        matrix_element = matrix[i][j]\n",
    "                        if matrix_element>Rxmin and matrix_element<Rxmax:\n",
    "                            filtered_edges.add((i,j))\n",
    "                            \n",
    "        \n",
    "        #Calculation of TPR\n",
    "        if E_set is not None:\n",
    "            TPR_numerator = len(filtered_edges.intersection(E_set))\n",
    "            TPR_denominator = len(E_prev_set(dataset,t0,t1,t2))\n",
    "            TPR = TPR_numerator/TPR_denominator\n",
    "            TPR_flag = True\n",
    "\n",
    "        #Calculation of TNR\n",
    "        if E_set is not None:\n",
    "            TNR_numerator = len(filtered_edges)- len(filtered_edges.intersection(E_set))\n",
    "            TNR_denominator = E0 - len(E_set)\n",
    "            TNR = 1- TNR_numerator/TNR_denominator\n",
    "            TNR_flag = True\n",
    "\n",
    "\n",
    "        #Calculation of ACC\n",
    "        if TNR_flag is True and TPR_flag is True:\n",
    "            ACC.append(lamda*TPR +(1-lamda)*TNR)\n",
    "        \n",
    "    return(np.mean(ACC))"
   ]
  },
  {
   "cell_type": "markdown",
   "metadata": {},
   "source": [
    "### ACC Function for Common Neighbors Similarity Measure"
   ]
  },
  {
   "cell_type": "code",
   "execution_count": 57,
   "metadata": {},
   "outputs": [],
   "source": [
    "def Common_Neighbors_prev_ACC(dataset,N,Rxmin,Rxmax):\n",
    "\n",
    "    ACC=[]\n",
    "    \n",
    "    #Calculation of TPR\n",
    "\n",
    "    #Calculate the E*x[t-1,t+1]\n",
    "    time_intervals = create_intervals(dataset,N)  \n",
    "    for time_interval in time_intervals:\n",
    "        \n",
    "        TNR_flag = False\n",
    "        TPR_flag = False\n",
    "\n",
    "        dt = time_interval[1] - time_interval[0]\n",
    "\n",
    "        t0 = time_interval[0]\n",
    "        t1 = time_interval[1]\n",
    "        t2 = time_interval[1] + dt\n",
    "\n",
    "        #Calculation of λ\n",
    "        E0 = len(vertices_intersection(dataset,t0,t1,t2))**2\n",
    "\n",
    "        E_set=E_prev_set(dataset,t0,t1,t2)\n",
    "        \n",
    "        if E_set is not None:\n",
    "            actual_edges = len(E_set)\n",
    "        else:\n",
    "            actual_edges = 0\n",
    "\n",
    "        if E0 is not 0:\n",
    "            lamda = actual_edges/E0\n",
    "\n",
    "\n",
    "        #Common Neighbors Distance Calculation\n",
    "        matrix=common_neighbors(dataset, t0, t1, t2)\n",
    "        filtered_edges = set()\n",
    "        if not matrix.empty:\n",
    "            for i in matrix.index:\n",
    "                for j in matrix.index:\n",
    "                    if i>j:\n",
    "                        matrix_element = matrix[i][j]\n",
    "                        if matrix_element>Rxmin and matrix_element<Rxmax:\n",
    "                            filtered_edges.add((i,j))\n",
    "                            \n",
    "        #Calculation of TPR\n",
    "        if E_set is not None:\n",
    "            TPR_numerator = len(filtered_edges.intersection(E_set))\n",
    "            TPR_denominator = len(E_set)\n",
    "            TPR = TPR_numerator/TPR_denominator\n",
    "            TNR_flag = True\n",
    "\n",
    "        #Calculation of TNR\n",
    "        if E_set is not None:\n",
    "            TNR_numerator = len(filtered_edges)- len(filtered_edges.intersection(E_set))\n",
    "            TNR_denominator = E0 - len(E_set)\n",
    "            TNR = 1- TNR_numerator/TNR_denominator\n",
    "            TPR_flag = True\n",
    "\n",
    "\n",
    "        #Calculation of ACC\n",
    "        if TNR_flag is True and TPR_flag is True:\n",
    "            ACC.append(lamda*TPR +(1-lamda)*TNR)\n",
    "        \n",
    "    return(np.mean(ACC))"
   ]
  },
  {
   "cell_type": "markdown",
   "metadata": {},
   "source": [
    "### ACC Function for Jaccard Similarity Measure"
   ]
  },
  {
   "cell_type": "code",
   "execution_count": 58,
   "metadata": {},
   "outputs": [],
   "source": [
    "def Jaccard_prev_ACC(dataset,N,Rxmin,Rxmax):\n",
    "\n",
    "    ACC=[]\n",
    "    \n",
    "    #Calculation of TPR\n",
    "\n",
    "    #Calculate the E*x[t-1,t+1]\n",
    "    time_intervals = create_intervals(dataset,N)  \n",
    "    for time_interval in time_intervals:\n",
    "        \n",
    "        TNR_flag = False\n",
    "        TPR_flag = False\n",
    "        \n",
    "        dt = time_interval[1] - time_interval[0]\n",
    "\n",
    "        t0 = time_interval[0]\n",
    "        t1 = time_interval[1]\n",
    "        t2 = time_interval[1] + dt\n",
    "\n",
    "        #Calculation of λ\n",
    "        E0 = len(vertices_intersection(dataset,t0,t1,t2))**2\n",
    "\n",
    "        E_set=E_prev_set(dataset,t0,t1,t2)\n",
    "        \n",
    "        if E_prev_set(dataset,t0,t1,t2) is not None:\n",
    "            actual_edges = len(E_set)\n",
    "        else:\n",
    "            actual_edges = 0\n",
    "\n",
    "        if E0 is not 0:\n",
    "            lamda = actual_edges/E0\n",
    "        else:\n",
    "            continue #THE LOOP WILL CONTINUE TO THE NEXT TIME INTERVAL\n",
    "\n",
    "\n",
    "        #Jaccard Distance Calculation\n",
    "        matrix=jaccard_distance(dataset, t0, t1, t2)\n",
    "        filtered_edges = set()\n",
    "        if not matrix.empty:\n",
    "            for i in matrix.index:\n",
    "                for j in matrix.index:\n",
    "                    if i>j:\n",
    "                        matrix_element = matrix[i][j]\n",
    "                        if matrix_element>Rxmin and matrix_element<Rxmax:\n",
    "                            filtered_edges.add((i,j))\n",
    "            #Calculation of TPR\n",
    "            if E_set is not None:\n",
    "                TPR_numerator = len(filtered_edges.intersection(E_set))\n",
    "                TPR_denominator = len(E_set)\n",
    "                if TPR_denominator is not 0:\n",
    "                    TPR = TPR_numerator/TPR_denominator\n",
    "                    TPR_flag = True\n",
    "\n",
    "\n",
    "            #Calculation of TNR\n",
    "            if E_set is not None:\n",
    "                TNR_numerator = len(filtered_edges)- len(filtered_edges.intersection(E_set))\n",
    "                TNR_denominator = E0 - len(E_set)\n",
    "                if TNR_denominator is not 0:\n",
    "                    TNR = 1- TNR_numerator/TNR_denominator\n",
    "                    TNR_flag = True\n",
    "\n",
    "\n",
    "        if TNR_flag is True and TPR_flag is True:\n",
    "            #Calculation of ACC\n",
    "            ACC.append(lamda*TPR +(1-lamda)*TNR)\n",
    "        \n",
    "    return(np.mean(ACC))"
   ]
  },
  {
   "cell_type": "markdown",
   "metadata": {},
   "source": [
    "### ACC Function for Adamic Adar Similarity Measure"
   ]
  },
  {
   "cell_type": "code",
   "execution_count": 59,
   "metadata": {},
   "outputs": [],
   "source": [
    "def Adamic_Adar_prev_ACC(dataset,N,Rxmin,Rxmax):\n",
    "    \n",
    "    ACC=[]\n",
    "    \n",
    "    #Calculation of TPR\n",
    "\n",
    "    #Calculate the E*x[t-1,t+1]\n",
    "    time_intervals = create_intervals(dataset,N)  \n",
    "    for time_interval in time_intervals:\n",
    "        \n",
    "        TNR_flag = False\n",
    "        TPR_flag = False\n",
    "\n",
    "        dt = time_interval[1] - time_interval[0]\n",
    "\n",
    "        t0 = time_interval[0]\n",
    "        t1 = time_interval[1]\n",
    "        t2 = time_interval[1] + dt\n",
    "\n",
    "        #Calculation of λ\n",
    "        E0 = len(vertices_intersection(dataset,t0,t1,t2))**2\n",
    "\n",
    "        E_set = E_prev_set(dataset,t0,t1,t2)\n",
    "        \n",
    "        if E_set is not None:\n",
    "            actual_edges = len(E_set)\n",
    "        else:\n",
    "            actual_edges = 0\n",
    "\n",
    "        if E0 is not 0:\n",
    "            lamda = actual_edges/E0\n",
    "\n",
    "\n",
    "        #Adamic Adar Distance Calculation\n",
    "        matrix=adamic_adar_distance(dataset, t0, t1, t2)\n",
    "        filtered_edges = set()\n",
    "        if not matrix.empty:\n",
    "            for i in matrix.index:\n",
    "                for j in matrix.index:\n",
    "                    if i>j:\n",
    "                        matrix_element = matrix[i][j]\n",
    "                        if matrix_element>Rxmin and matrix_element<Rxmax:\n",
    "                            filtered_edges.add((i,j))\n",
    "                            \n",
    "        #Calculation of TPR\n",
    "        if E_prev_set(dataset,t0,t1,t2)is not None:\n",
    "            TPR_numerator = len(filtered_edges.intersection(E_set))\n",
    "            TPR_denominator = len(E_set)\n",
    "            if TPR_denominator is not 0:\n",
    "                TPR = TPR_numerator/TPR_denominator\n",
    "                TPR_flag = True\n",
    "\n",
    "\n",
    "        #Calculation of TNR\n",
    "        if E_set is not None:\n",
    "            TNR_numerator = len(filtered_edges)- len(filtered_edges.intersection(E_set))\n",
    "            TNR_denominator = E0 - len(E_set)\n",
    "            if TNR_denominator is not 0:\n",
    "                TNR = 1- TNR_numerator/TNR_denominator\n",
    "                TNR_flag = True\n",
    " \n",
    "\n",
    "        #Calculation of ACC\n",
    "        if TNR_flag is True and TPR_flag is True:\n",
    "            ACC.append(lamda*TPR +(1-lamda)*TNR)\n",
    "        \n",
    "    return(np.mean(ACC))"
   ]
  },
  {
   "cell_type": "markdown",
   "metadata": {},
   "source": [
    "### ACC Function for Preferential Attachment Similarity Measure"
   ]
  },
  {
   "cell_type": "code",
   "execution_count": 60,
   "metadata": {},
   "outputs": [],
   "source": [
    "def Preferencial_Attachment_prev_ACC(dataset,N,Rxmin,Rxmax):\n",
    "\n",
    "    ACC=[]\n",
    "    \n",
    "    #Calculation of TPR\n",
    "\n",
    "    #Calculate the E*x[t-1,t+1]\n",
    "    time_intervals = create_intervals(dataset,N)  \n",
    "    for time_interval in time_intervals:\n",
    "        \n",
    "        TNR_flag = False\n",
    "        TPR_flag = False\n",
    "\n",
    "        dt = time_interval[1] - time_interval[0]\n",
    "\n",
    "        t0 = time_interval[0]\n",
    "        t1 = time_interval[1]\n",
    "        t2 = time_interval[1] + dt\n",
    "\n",
    "        #Calculation of λ\n",
    "        E0 = len(vertices_intersection(dataset,t0,t1,t2))**2\n",
    "        \n",
    "        E_set = E_prev_set(dataset,t0,t1,t2)\n",
    "\n",
    "        if E_set is not None:\n",
    "            actual_edges = len(E_set)\n",
    "        else:\n",
    "            actual_edges = 0\n",
    "\n",
    "        if E0 is not 0:\n",
    "            lamda = actual_edges/E0\n",
    "\n",
    "\n",
    "        #Preferencialattachment Calculation\n",
    "        matrix=preferencial_attachment(dataset, t0, t1, t2)\n",
    "        filtered_edges = set()\n",
    "        if not matrix.empty:\n",
    "            for i in matrix.index:\n",
    "                for j in matrix.index:\n",
    "                    if i>j:\n",
    "                        matrix_element = matrix[i][j]\n",
    "                        if matrix_element>Rxmin and matrix_element<Rxmax:\n",
    "                            filtered_edges.add((i,j))\n",
    "        #Calculation of TPR\n",
    "        if E_set is not None:\n",
    "            TPR_numerator = len(filtered_edges.intersection(E_set))\n",
    "            TPR_denominator = len(E_set)\n",
    "            TPR = TPR_numerator/TPR_denominator\n",
    "            TPR_flag = True\n",
    "\n",
    "\n",
    "        #Calculation of TNR\n",
    "        if E_set is not None:\n",
    "            TNR_numerator = len(filtered_edges)- len(filtered_edges.intersection(E_set))\n",
    "            TNR_denominator = E0 - len(E_set)\n",
    "            TNR = 1- TNR_numerator/TNR_denominator\n",
    "            TNR_flag = True\n",
    "\n",
    "        #Calculation of ACC\n",
    "        if TNR_flag is True and TPR_flag is True:\n",
    "            ACC.append(lamda*TPR +(1-lamda)*TNR)\n",
    "        \n",
    "    return(np.mean(ACC))"
   ]
  },
  {
   "cell_type": "code",
   "execution_count": 61,
   "metadata": {},
   "outputs": [],
   "source": [
    "def calculate_similarity_values(method,dataset,N):\n",
    "    \n",
    "    flag=True\n",
    "    \n",
    "    time_intervals = create_intervals(dataset,N)  \n",
    "    for time_interval in time_intervals:\n",
    "        \n",
    "        dt = time_interval[1] - time_interval[0]\n",
    "\n",
    "        t0 = time_interval[0]\n",
    "        t1 = time_interval[1]\n",
    "        t2 = time_interval[1] + dt\n",
    "\n",
    "        #Jaccard Distance Calculation\n",
    "        matrix=method(dataset, t0, t1, t2)\n",
    "        \n",
    "        if matrix is not None:\n",
    "            return np.unique(matrix.values)"
   ]
  },
  {
   "cell_type": "markdown",
   "metadata": {},
   "source": [
    "The following code calculates the range of similarity values for each distance metric. The following code is for illustrating purposes."
   ]
  },
  {
   "cell_type": "code",
   "execution_count": 40,
   "metadata": {},
   "outputs": [
    {
     "name": "stdout",
     "output_type": "stream",
     "text": [
      "graph_distance [ 0.  1. inf]\n",
      "common_neighbors [0]\n",
      "jaccard_distance [0.]\n",
      "adamic_adar_distance [0]\n",
      "preferencial_attachment [0 2]\n"
     ]
    },
    {
     "name": "stderr",
     "output_type": "stream",
     "text": [
      "C:\\Users\\giorgos.papachristou\\AppData\\Local\\Continuum\\anaconda3\\lib\\site-packages\\ipykernel_launcher.py:16: FutureWarning: Sorting because non-concatenation axis is not aligned. A future version\n",
      "of pandas will change to not sort by default.\n",
      "\n",
      "To accept the future behavior, pass 'sort=True'.\n",
      "\n",
      "To retain the current behavior and silence the warning, pass sort=False\n",
      "\n",
      "  app.launch_new_instance()\n"
     ]
    }
   ],
   "source": [
    "S=[graph_distance,common_neighbors,jaccard_distance,adamic_adar_distance,preferencial_attachment]\n",
    "\n",
    "for distance_method in S:\n",
    "    print(distance_method.__name__,calculate_similarity_values(distance_method,dataset,10))"
   ]
  },
  {
   "cell_type": "markdown",
   "metadata": {},
   "source": [
    "The following function calculates the optimal range of values for the similarity score. The logic behind this function is firstly to calculate the values of the similarity matrix and then start to reduce the range and keep the best accuracy score."
   ]
  },
  {
   "cell_type": "code",
   "execution_count": 40,
   "metadata": {},
   "outputs": [],
   "source": [
    "def calculate_R_range(method,ACC_method,dataset,N, iterations):\n",
    "\n",
    "    S=calculate_similarity_values(method,dataset,N)\n",
    "    \n",
    "    Rmin=0\n",
    "    Rmax=len(S)-1\n",
    "    \n",
    "    Rmin_value = Rmin\n",
    "    Rmax_value = Rmax\n",
    "    iterations_num = 0\n",
    "    \n",
    "    best_ACC=ACC_method(dataset,N,Rmin,Rmax)\n",
    "    while Rmin+1 < Rmax and iterations_num < iterations:\n",
    "\n",
    "        ACC_next=ACC_method(dataset,10,S[Rmin+1],S[Rmax])\n",
    "        if ACC_next>best_ACC:\n",
    "            best_ACC = ACC_next\n",
    "            Rmin_value=Rmin+1\n",
    "\n",
    "        ACC_prev=ACC_method(dataset,10,S[Rmin],S[Rmax-1])    \n",
    "        if ACC_prev>best_ACC:\n",
    "            best_ACC = ACC_prev\n",
    "            Rmax_value=Rmax-1\n",
    "\n",
    "        Rmin = Rmin+1    \n",
    "        Rmax = Rmax-1\n",
    "        iterations_num += 1\n",
    "        \n",
    "    return(method.__name__,best_ACC,[S[Rmin_value],S[Rmax_value]])  "
   ]
  },
  {
   "cell_type": "markdown",
   "metadata": {},
   "source": [
    "The following function breaks the dataset to N smaller datasets. If we don't use this approach the algorythm isn't efficient because have to load all the data and use only a part of them, because every time we need only two time intervals NOT ALL, AT THE SAME TIME."
   ]
  },
  {
   "cell_type": "code",
   "execution_count": 41,
   "metadata": {},
   "outputs": [],
   "source": [
    "def calculate_R_range_batches(method,ACC_method,dataset,N, iterations,n):  \n",
    "    \n",
    "    #Break the dataset to N-datasets\n",
    "    data_rows = len(dataset)\n",
    "    step = round(data_rows/n)\n",
    "    start=0\n",
    "    stop=step\n",
    "    method_list=method\n",
    "    method_list=list()\n",
    "    \n",
    "    for pointer in range(0,data_rows,step):\n",
    "        \n",
    "        data_batch=dataset.iloc[start:stop]\n",
    "        calculate_R=calculate_R_range(method,ACC_method,data_batch,N, iterations)\n",
    "        \n",
    "        method_list.append(calculate_R[1])\n",
    "        \n",
    "        start = start + step\n",
    "        stop = stop + step\n",
    "    return(method_list)   "
   ]
  },
  {
   "cell_type": "markdown",
   "metadata": {},
   "source": [
    "Now we can calculate the Accuracy for the testing dataset"
   ]
  },
  {
   "cell_type": "code",
   "execution_count": 108,
   "metadata": {},
   "outputs": [
    {
     "name": "stdout",
     "output_type": "stream",
     "text": [
      "('graph_distance', 0.9649977978455606, [0.0, inf])\n",
      "('common_neighbors', 0.9534639741474817, [0, 0])\n",
      "('jaccard_distance', 0.9534639741474817, [0.0, 0.0])\n",
      "('adamic_adar_distance', 0.9534639741474817, [0, 0])\n",
      "('preferencial_attachment', 0.9534639741474817, [0, 2])\n"
     ]
    }
   ],
   "source": [
    "S=[[graph_distance,Graph_Distance_prev_ACC],\n",
    "   [common_neighbors,Common_Neighbors_prev_ACC],\n",
    "   [jaccard_distance,Jaccard_ACC],\n",
    "   [adamic_adar_distance,Adamic_Adar_prev_ACC],\n",
    "   [preferencial_attachment,Preferencial_Attachment_prev_ACC]]\n",
    "\n",
    "for distance_method,ACC_method in S:\n",
    "    print(calculate_R_range(distance_method,ACC_method,dataset,10, 10))"
   ]
  },
  {
   "cell_type": "code",
   "execution_count": 94,
   "metadata": {},
   "outputs": [
    {
     "name": "stderr",
     "output_type": "stream",
     "text": [
      "C:\\Users\\geop\\Anaconda3\\lib\\site-packages\\ipykernel_launcher.py:16: FutureWarning: Sorting because non-concatenation axis is not aligned. A future version\n",
      "of pandas will change to not sort by default.\n",
      "\n",
      "To accept the future behavior, pass 'sort=True'.\n",
      "\n",
      "To retain the current behavior and silence the warning, pass sort=False\n",
      "\n",
      "  app.launch_new_instance()\n"
     ]
    },
    {
     "name": "stdout",
     "output_type": "stream",
     "text": [
      "graph_distance\n",
      "ACC values:  [0.9609519669082041, 0.9600135240424252, 0.9082645225841368, 0.9543301678751777]\n",
      "Average value:  0.9458900453524859\n",
      "common_neighbors\n",
      "ACC values:  [0.9441582859365655, 0.9600135240424252, 0.9342636592731474, 0.9675437136592253]\n",
      "Average value:  0.9514947957278408\n",
      "jaccard_distance\n",
      "ACC values:  [0.9441582859365655, 0.9600135240424252, 0.9340570477028993, 0.9674289830118736]\n",
      "Average value:  0.9514144601734409\n",
      "adamic_adar_distance\n",
      "ACC values:  [0.9441582859365655, 0.9592590878632787, 0.9272253063414884, 0.968382205240746]\n",
      "Average value:  0.9497562213455197\n",
      "preferencial_attachment\n",
      "ACC values:  [0.9441582859365655, 0.9600135240424252, 0.8373476066107765, 0.9637811864852134]\n",
      "Average value:  0.9263251507687452\n"
     ]
    }
   ],
   "source": [
    "S=[[graph_distance,Graph_Distance_prev_ACC],\n",
    "   [common_neighbors,Common_Neighbors_prev_ACC],\n",
    "   [jaccard_distance,Jaccard_prev_ACC],\n",
    "   [adamic_adar_distance,Adamic_Adar_prev_ACC],\n",
    "   [preferencial_attachment,Preferencial_Attachment_prev_ACC]]\n",
    "\n",
    "results=list()\n",
    "\n",
    "for distance_method,ACC_method in S:\n",
    "    result=calculate_R_range_batches(distance_method,ACC_method,dataset,10, 10,4)\n",
    "    results.append(result)\n",
    "    print(distance_method.__name__)\n",
    "    print(\"ACC values: \",result)\n",
    "    print(\"Average value: \",np.mean(result))"
   ]
  },
  {
   "cell_type": "markdown",
   "metadata": {},
   "source": [
    "We plot the final results of the accuracy for the training data."
   ]
  },
  {
   "cell_type": "code",
   "execution_count": 95,
   "metadata": {},
   "outputs": [
    {
     "data": {
      "text/plain": [
       "[Text(0,0,'Graph Distance'),\n",
       " Text(0,0,'Common Neighbors'),\n",
       " Text(0,0,'Jaccard Distance'),\n",
       " Text(0,0,'Adamic Adar Distance'),\n",
       " Text(0,0,'Preferencial Attachment')]"
      ]
     },
     "execution_count": 95,
     "metadata": {},
     "output_type": "execute_result"
    },
    {
     "data": {
      "image/png": "[encoded data removed]",
      "text/plain": [
       "<Figure size 1152x360 with 1 Axes>"
      ]
     },
     "metadata": {},
     "output_type": "display_data"
    }
   ],
   "source": [
    "# Create a figure instance\n",
    "fig = plt.figure(1, figsize=(16, 5))\n",
    "\n",
    "# Create an axes instance\n",
    "ax = fig.add_subplot(111)\n",
    "\n",
    "# Create the boxplot\n",
    "bp = ax.boxplot(results)\n",
    "\n",
    "## change color and linewidth of the medians\n",
    "for median in bp['medians']:\n",
    "    median.set(color='#b2df8a', linewidth=2)\n",
    "    \n",
    "## Custom x-axis labels\n",
    "ax.set_xticklabels([\"Graph Distance\",\n",
    "                      \"Common Neighbors\",\n",
    "                      \"Jaccard Distance\",\n",
    "                      \"Adamic Adar Distance\",\n",
    "                      \"Preferencial Attachment\"])"
   ]
  },
  {
   "cell_type": "markdown",
   "metadata": {},
   "source": [
    "In the following cells we calculate the accuracy for the test dataset"
   ]
  },
  {
   "cell_type": "markdown",
   "metadata": {},
   "source": [
    "### ACC Function for Graph Distance Similarity Measure"
   ]
  },
  {
   "cell_type": "code",
   "execution_count": 49,
   "metadata": {},
   "outputs": [],
   "source": [
    "def Graph_Distance_next_ACC(dataset,N,Rxmin,Rxmax):\n",
    "    \n",
    "    ACC=[]\n",
    "    \n",
    "    #Calculation of TPR\n",
    "\n",
    "    #Calculate the E*x[t-1,t+1]\n",
    "    time_intervals = create_intervals(dataset,N)  \n",
    "    for time_interval in time_intervals:\n",
    "        \n",
    "        TNR_flag = False\n",
    "        TPR_flag = False\n",
    "\n",
    "        dt = time_interval[1] - time_interval[0]\n",
    "\n",
    "        t0 = time_interval[0]\n",
    "        t1 = time_interval[1]\n",
    "        t2 = time_interval[1] + dt\n",
    "\n",
    "        #Calculation of λ\n",
    "        E0 = len(vertices_intersection(dataset,t0,t1,t2))**2\n",
    "\n",
    "        E_set = E_next_set(dataset,t0,t1,t2)\n",
    "        if E_set is not None:\n",
    "            actual_edges = len(E_set)\n",
    "        else:\n",
    "            actual_edges = 0\n",
    "\n",
    "        if E0 is not 0:\n",
    "            lamda = actual_edges/E0\n",
    "\n",
    "\n",
    "        #Common Neighbors Distance Calculation\n",
    "        matrix=graph_distance(dataset, t0, t1, t2)\n",
    "        filtered_edges = set()\n",
    "        if (matrix is not None) and (not matrix.empty):\n",
    "            for i in matrix.index:\n",
    "                for j in matrix.index:\n",
    "                    if i>j:\n",
    "                        matrix_element = matrix[i][j]\n",
    "                        if matrix_element>Rxmin and matrix_element<Rxmax:\n",
    "                            filtered_edges.add((i,j))\n",
    "                            \n",
    "        \n",
    "        #Calculation of TPR\n",
    "        if E_set is not None:\n",
    "            TPR_numerator = len(filtered_edges.intersection(E_set))\n",
    "            TPR_denominator = len(E_next_set(dataset,t0,t1,t2))\n",
    "            TPR = TPR_numerator/TPR_denominator\n",
    "            TPR_flag = True\n",
    "\n",
    "        #Calculation of TNR\n",
    "        if E_set is not None:\n",
    "            TNR_numerator = len(filtered_edges)- len(filtered_edges.intersection(E_set))\n",
    "            TNR_denominator = E0 - len(E_set)\n",
    "            TNR = 1- TNR_numerator/TNR_denominator\n",
    "            TNR_flag = True\n",
    "\n",
    "\n",
    "        #Calculation of ACC\n",
    "        if TNR_flag is True and TPR_flag is True:\n",
    "            ACC.append(lamda*TPR +(1-lamda)*TNR)\n",
    "        \n",
    "    return(np.mean(ACC))"
   ]
  },
  {
   "cell_type": "markdown",
   "metadata": {},
   "source": [
    "### ACC Function for Common Neighbors Similarity Measure"
   ]
  },
  {
   "cell_type": "code",
   "execution_count": 50,
   "metadata": {},
   "outputs": [],
   "source": [
    "def Common_Neighbors_next_ACC(dataset,N,Rxmin,Rxmax):\n",
    "\n",
    "    ACC=[]\n",
    "    \n",
    "    #Calculation of TPR\n",
    "\n",
    "    #Calculate the E*x[t-1,t+1]\n",
    "    time_intervals = create_intervals(dataset,N)  \n",
    "    for time_interval in time_intervals:\n",
    "        \n",
    "        TNR_flag = False\n",
    "        TPR_flag = False\n",
    "\n",
    "        dt = time_interval[1] - time_interval[0]\n",
    "\n",
    "        t0 = time_interval[0]\n",
    "        t1 = time_interval[1]\n",
    "        t2 = time_interval[1] + dt\n",
    "\n",
    "        #Calculation of λ\n",
    "        E0 = len(vertices_intersection(dataset,t0,t1,t2))**2\n",
    "\n",
    "        E_set = E_next_set(dataset,t0,t1,t2)\n",
    "        \n",
    "        if E_set is not None:\n",
    "            actual_edges = len(E_set)\n",
    "        else:\n",
    "            actual_edges = 0\n",
    "\n",
    "        if E0 is not 0:\n",
    "            lamda = actual_edges/E0\n",
    "\n",
    "\n",
    "        #Common Neighbors Distance Calculation\n",
    "        matrix=common_neighbors(dataset, t0, t1, t2)\n",
    "        filtered_edges = set()\n",
    "        if not matrix.empty:\n",
    "            for i in matrix.index:\n",
    "                for j in matrix.index:\n",
    "                    if i>j:\n",
    "                        matrix_element = matrix[i][j]\n",
    "                        if matrix_element>Rxmin and matrix_element<Rxmax:\n",
    "                            filtered_edges.add((i,j))\n",
    "                            \n",
    "        #Calculation of TPR\n",
    "        if E_set is not None:\n",
    "            TPR_numerator = len(filtered_edges.intersection(E_set))\n",
    "            TPR_denominator = len(E_set)\n",
    "            TPR = TPR_numerator/TPR_denominator\n",
    "            TNR_flag = True\n",
    "\n",
    "        #Calculation of TNR\n",
    "        if E_set is not None:\n",
    "            TNR_numerator = len(filtered_edges)- len(filtered_edges.intersection(E_set))\n",
    "            TNR_denominator = E0 - len(E_set)\n",
    "            TNR = 1- TNR_numerator/TNR_denominator\n",
    "            TPR_flag = True\n",
    "\n",
    "\n",
    "        #Calculation of ACC\n",
    "        if TNR_flag is True and TPR_flag is True:\n",
    "            ACC.append(lamda*TPR +(1-lamda)*TNR)\n",
    "        \n",
    "    return(np.mean(ACC))"
   ]
  },
  {
   "cell_type": "markdown",
   "metadata": {},
   "source": [
    "### ACC Function for Jaccard Similarity Measure"
   ]
  },
  {
   "cell_type": "code",
   "execution_count": 51,
   "metadata": {},
   "outputs": [],
   "source": [
    "def Jaccard_next_ACC(dataset,N,Rxmin,Rxmax):\n",
    "\n",
    "    ACC=[]\n",
    "    \n",
    "    #Calculation of TPR\n",
    "\n",
    "    #Calculate the E*x[t-1,t+1]\n",
    "    time_intervals = create_intervals(dataset,N)  \n",
    "    for time_interval in time_intervals:\n",
    "        \n",
    "        TNR_flag = False\n",
    "        TPR_flag = False\n",
    "        \n",
    "        dt = time_interval[1] - time_interval[0]\n",
    "\n",
    "        t0 = time_interval[0]\n",
    "        t1 = time_interval[1]\n",
    "        t2 = time_interval[1] + dt\n",
    "\n",
    "        #Calculation of λ\n",
    "        E0 = len(vertices_intersection(dataset,t0,t1,t2))**2\n",
    "\n",
    "        E_set = E_next_set(dataset,t0,t1,t2)\n",
    "        \n",
    "        if E_set is not None:\n",
    "            actual_edges = len(E_set)\n",
    "        else:\n",
    "            actual_edges = 0\n",
    "\n",
    "        if E0 is not 0:\n",
    "            lamda = actual_edges/E0\n",
    "        else:\n",
    "            continue #THE LOOP WILL CONTINUE TO THE NEXT TIME INTERVAL\n",
    "\n",
    "\n",
    "        #Jaccard Distance Calculation\n",
    "        matrix=jaccard_distance(dataset, t0, t1, t2)\n",
    "        filtered_edges = set()\n",
    "        if not matrix.empty:\n",
    "            for i in matrix.index:\n",
    "                for j in matrix.index:\n",
    "                    if i>j:\n",
    "                        matrix_element = matrix[i][j]\n",
    "                        if matrix_element>Rxmin and matrix_element<Rxmax:\n",
    "                            filtered_edges.add((i,j))\n",
    "            #Calculation of TPR\n",
    "            if E_set is not None:\n",
    "                TPR_numerator = len(filtered_edges.intersection(E_set))\n",
    "                TPR_denominator = len(E_set)\n",
    "                if TPR_denominator is not 0:\n",
    "                    TPR = TPR_numerator/TPR_denominator\n",
    "                    TPR_flag = True\n",
    "\n",
    "\n",
    "            #Calculation of TNR\n",
    "            if E_set is not None:\n",
    "                TNR_numerator = len(filtered_edges)- len(filtered_edges.intersection(E_set))\n",
    "                TNR_denominator = E0 - len(E_set)\n",
    "                if TNR_denominator is not 0:\n",
    "                    TNR = 1- TNR_numerator/TNR_denominator\n",
    "                    TNR_flag = True\n",
    "\n",
    "\n",
    "        if TNR_flag is True and TPR_flag is True:\n",
    "            #Calculation of ACC\n",
    "            ACC.append(lamda*TPR +(1-lamda)*TNR)\n",
    "        \n",
    "    return(np.mean(ACC))"
   ]
  },
  {
   "cell_type": "markdown",
   "metadata": {},
   "source": [
    "Estimate the range of the R parameter "
   ]
  },
  {
   "cell_type": "markdown",
   "metadata": {},
   "source": [
    "### ACC Function for Adamic Adar Similarity Measure"
   ]
  },
  {
   "cell_type": "code",
   "execution_count": 52,
   "metadata": {},
   "outputs": [],
   "source": [
    "def Adamic_Adar_next_ACC(dataset,N,Rxmin,Rxmax):\n",
    "    \n",
    "    ACC=[]\n",
    "    \n",
    "    #Calculation of TPR\n",
    "\n",
    "    #Calculate the E*x[t-1,t+1]\n",
    "    time_intervals = create_intervals(dataset,N)  \n",
    "    for time_interval in time_intervals:\n",
    "        \n",
    "        TNR_flag = False\n",
    "        TPR_flag = False\n",
    "\n",
    "        dt = time_interval[1] - time_interval[0]\n",
    "\n",
    "        t0 = time_interval[0]\n",
    "        t1 = time_interval[1]\n",
    "        t2 = time_interval[1] + dt\n",
    "\n",
    "        #Calculation of λ\n",
    "        E0 = len(vertices_intersection(dataset,t0,t1,t2))**2\n",
    "\n",
    "        E_set = E_next_set(dataset,t0,t1,t2)\n",
    "        \n",
    "        if E_next_set(dataset,t0,t1,t2) is not None:\n",
    "            actual_edges = len(E_set)\n",
    "        else:\n",
    "            actual_edges = 0\n",
    "\n",
    "        if E0 is not 0:\n",
    "            lamda = actual_edges/E0\n",
    "\n",
    "\n",
    "        #Adamic Adar Distance Calculation\n",
    "        matrix=adamic_adar_distance(dataset, t0, t1, t2)\n",
    "        filtered_edges = set()\n",
    "        if not matrix.empty:\n",
    "            for i in matrix.index:\n",
    "                for j in matrix.index:\n",
    "                    if i>j:\n",
    "                        matrix_element = matrix[i][j]\n",
    "                        if matrix_element>Rxmin and matrix_element<Rxmax:\n",
    "                            filtered_edges.add((i,j))\n",
    "                            \n",
    "        #Calculation of TPR\n",
    "        if E_set is not None:\n",
    "            TPR_numerator = len(filtered_edges.intersection(E_set))\n",
    "            TPR_denominator = len(E_set)\n",
    "            if TPR_denominator is not 0:\n",
    "                TPR = TPR_numerator/TPR_denominator\n",
    "                TPR_flag = True\n",
    "\n",
    "\n",
    "        #Calculation of TNR\n",
    "        if E_set is not None:\n",
    "            TNR_numerator = len(filtered_edges)- len(filtered_edges.intersection(E_set))\n",
    "            TNR_denominator = E0 - len(E_set)\n",
    "            if TNR_denominator is not 0:\n",
    "                TNR = 1- TNR_numerator/TNR_denominator\n",
    "                TNR_flag = True\n",
    " \n",
    "\n",
    "        #Calculation of ACC\n",
    "        if TNR_flag is True and TPR_flag is True:\n",
    "            ACC.append(lamda*TPR +(1-lamda)*TNR)\n",
    "        \n",
    "    return(np.mean(ACC))"
   ]
  },
  {
   "cell_type": "markdown",
   "metadata": {},
   "source": [
    "### ACC Function for Preferential Attachment Similarity Measure"
   ]
  },
  {
   "cell_type": "code",
   "execution_count": 53,
   "metadata": {},
   "outputs": [],
   "source": [
    "def Preferencial_Attachment_next_ACC(dataset,N,Rxmin,Rxmax):\n",
    "\n",
    "    ACC=[]\n",
    "    \n",
    "    #Calculation of TPR\n",
    "\n",
    "    #Calculate the E*x[t-1,t+1]\n",
    "    time_intervals = create_intervals(dataset,N)  \n",
    "    for time_interval in time_intervals:\n",
    "        \n",
    "        TNR_flag = False\n",
    "        TPR_flag = False\n",
    "\n",
    "        dt = time_interval[1] - time_interval[0]\n",
    "\n",
    "        t0 = time_interval[0]\n",
    "        t1 = time_interval[1]\n",
    "        t2 = time_interval[1] + dt\n",
    "\n",
    "        #Calculation of λ\n",
    "        E0 = len(vertices_intersection(dataset,t0,t1,t2))**2\n",
    "\n",
    "        E_set = E_next_set(dataset,t0,t1,t2)\n",
    "        if E_next_set(dataset,t0,t1,t2) is not None:\n",
    "            actual_edges = len(E_set)\n",
    "        else:\n",
    "            actual_edges = 0\n",
    "\n",
    "        if E0 is not 0:\n",
    "            lamda = actual_edges/E0\n",
    "\n",
    "\n",
    "        #Preferencialattachment Calculation\n",
    "        matrix=preferencial_attachment(dataset, t0, t1, t2)\n",
    "        filtered_edges = set()\n",
    "        if not matrix.empty:\n",
    "            for i in matrix.index:\n",
    "                for j in matrix.index:\n",
    "                    if i>j:\n",
    "                        matrix_element = matrix[i][j]\n",
    "                        if matrix_element>Rxmin and matrix_element<Rxmax:\n",
    "                            filtered_edges.add((i,j))\n",
    "        #Calculation of TPR\n",
    "        if E_set is not None:\n",
    "            TPR_numerator = len(filtered_edges.intersection(E_set))\n",
    "            TPR_denominator = len(E_set)\n",
    "            TPR = TPR_numerator/TPR_denominator\n",
    "            TPR_flag = True\n",
    "\n",
    "\n",
    "        #Calculation of TNR\n",
    "        if E_set is not None:\n",
    "            TNR_numerator = len(filtered_edges)- len(filtered_edges.intersection(E_set))\n",
    "            TNR_denominator = E0 - len(E_set)\n",
    "            TNR = 1- TNR_numerator/TNR_denominator\n",
    "            TNR_flag = True\n",
    "\n",
    "        #Calculation of ACC\n",
    "        if TNR_flag is True and TPR_flag is True:\n",
    "            ACC.append(lamda*TPR +(1-lamda)*TNR)\n",
    "        \n",
    "    return(np.mean(ACC))"
   ]
  },
  {
   "cell_type": "code",
   "execution_count": 54,
   "metadata": {},
   "outputs": [],
   "source": [
    "def calculate_R_range(method,ACC_method,dataset,N, iterations):\n",
    "\n",
    "    S=calculate_similarity_values(method,dataset,N)\n",
    "    \n",
    "    Rmin=0\n",
    "    Rmax=len(S)-1\n",
    "    \n",
    "    Rmin_value=Rmin\n",
    "    Rmax_value=Rmax\n",
    "    iterations_num = 0\n",
    "    \n",
    "    best_ACC=ACC_method(dataset,N,Rmin,Rmax)\n",
    "    while Rmin+1 < Rmax and iterations_num < iterations:\n",
    "\n",
    "        ACC_next=ACC_method(dataset,10,S[Rmin+1],S[Rmax])\n",
    "        if ACC_next>best_ACC:\n",
    "            best_ACC = ACC_next\n",
    "            Rmin_value=Rmin+1\n",
    "\n",
    "        ACC_prev=ACC_method(dataset,10,S[Rmin],S[Rmax-1])    \n",
    "        if ACC_prev>best_ACC:\n",
    "            best_ACC = ACC_prev\n",
    "            Rmax_value=Rmax-1\n",
    "\n",
    "        Rmin = Rmin+1    \n",
    "        Rmax = Rmax-1\n",
    "        iterations_num += 1\n",
    "        \n",
    "    return(method.__name__,best_ACC,[S[Rmin_value],S[Rmax_value]])    "
   ]
  },
  {
   "cell_type": "code",
   "execution_count": 116,
   "metadata": {
    "scrolled": true
   },
   "outputs": [
    {
     "name": "stdout",
     "output_type": "stream",
     "text": [
      "('graph_distance', 0.9234790218137151, [0.0, 1.0])\n",
      "('common_neighbors', 0.9234790218137151, [0, 0])\n",
      "('jaccard_distance', 0.9234790218137151, [0.0, 0.0])\n",
      "('adamic_adar_distance', 0.9234790218137151, [0, 0])\n",
      "('preferencial_attachment', 0.9234790218137151, [0, 2])\n"
     ]
    }
   ],
   "source": [
    "S=[[graph_distance,Graph_Distance_next_ACC],\n",
    "   [common_neighbors,Common_Neighbors_next_ACC],\n",
    "   [jaccard_distance,Jaccard_next_ACC],\n",
    "   [adamic_adar_distance,Adamic_Adar_next_ACC],\n",
    "   [preferencial_attachment,Preferencial_Attachment_next_ACC]]\n",
    "\n",
    "for distance_method,ACC_method in S:\n",
    "    print(calculate_R_range(distance_method,ACC_method,dataset,10,10))\n",
    "   "
   ]
  },
  {
   "cell_type": "code",
   "execution_count": 144,
   "metadata": {},
   "outputs": [
    {
     "name": "stderr",
     "output_type": "stream",
     "text": [
      "C:\\Users\\giorgos.papachristou\\AppData\\Local\\Continuum\\anaconda3\\lib\\site-packages\\ipykernel_launcher.py:16: FutureWarning:\n",
      "\n",
      "Sorting because non-concatenation axis is not aligned. A future version\n",
      "of pandas will change to not sort by default.\n",
      "\n",
      "To accept the future behavior, pass 'sort=True'.\n",
      "\n",
      "To retain the current behavior and silence the warning, pass sort=False\n",
      "\n",
      "\n"
     ]
    },
    {
     "name": "stdout",
     "output_type": "stream",
     "text": [
      "graph_distance\n",
      "ACC values:  [0.9234790218137151, 0.9441261878100227, 0.9917638796518787, 0.9428918272826419]\n",
      "Average value:  0.9505652291395645\n",
      "common_neighbors\n",
      "ACC values:  [0.9234790218137151, 0.9904558565951526, 0.9917638796518787, 0.9889456565934349]\n",
      "Average value:  0.9736611036635453\n",
      "jaccard_distance\n",
      "ACC values:  [0.9234790218137151, 0.9903108358414224, 0.9883448948656899, 0.9888732285795097]\n",
      "Average value:  0.9727519952750843\n",
      "adamic_adar_distance\n",
      "ACC values:  [0.9234790218137151, 0.9795500524596008, 0.9865124119252042, 0.9866290742073266]\n",
      "Average value:  0.9690426401014617\n",
      "preferencial_attachment\n",
      "ACC values:  [0.9234790218137151, 0.9800824435103083, 0.9917638796518787, 0.9836608032590414]\n",
      "Average value:  0.9697465370587359\n"
     ]
    }
   ],
   "source": [
    "S=[[graph_distance,Graph_Distance_next_ACC],\n",
    "   [common_neighbors,Common_Neighbors_next_ACC],\n",
    "   [jaccard_distance,Jaccard_next_ACC],\n",
    "   [adamic_adar_distance,Adamic_Adar_next_ACC],\n",
    "   [preferencial_attachment,Preferencial_Attachment_next_ACC]]\n",
    "\n",
    "results=list()\n",
    "\n",
    "for distance_method,ACC_method in S:\n",
    "    result=calculate_R_range_batches(distance_method,ACC_method,dataset,10, 10,4)\n",
    "    results.append(result)\n",
    "    print(distance_method.__name__)\n",
    "    print(\"ACC values: \",result)\n",
    "    print(\"Average value: \",np.mean(result))"
   ]
  },
  {
   "cell_type": "markdown",
   "metadata": {},
   "source": [
    "We plot the final results of the accuracy for the test data."
   ]
  },
  {
   "cell_type": "code",
   "execution_count": 145,
   "metadata": {},
   "outputs": [
    {
     "data": {
      "text/plain": [
       "[Text(0,0,'Graph Distance'),\n",
       " Text(0,0,'Common Neighbors'),\n",
       " Text(0,0,'Jaccard Distance'),\n",
       " Text(0,0,'Adamic Adar Distance'),\n",
       " Text(0,0,'Preferencial Attachment')]"
      ]
     },
     "execution_count": 145,
     "metadata": {},
     "output_type": "execute_result"
    },
    {
     "data": {
      "image/png": "[encoded data removed]",
      "text/plain": [
       "<Figure size 1080x360 with 1 Axes>"
      ]
     },
     "metadata": {},
     "output_type": "display_data"
    }
   ],
   "source": [
    "# Create a figure instance\n",
    "fig = plt.figure(1, figsize=(15, 5))\n",
    "\n",
    "# Create an axes instance\n",
    "ax = fig.add_subplot(111)\n",
    "\n",
    "# Create the boxplot\n",
    "bp = ax.boxplot(results)\n",
    "\n",
    "## change color and linewidth of the medians\n",
    "for median in bp['medians']:\n",
    "    median.set(color='#b2df8a', linewidth=2)\n",
    "    \n",
    "## Custom x-axis labels\n",
    "ax.set_xticklabels([\"Graph Distance\",\n",
    "                      \"Common Neighbors\",\n",
    "                      \"Jaccard Distance\",\n",
    "                      \"Adamic Adar Distance\",\n",
    "                      \"Preferencial Attachment\"])"
   ]
  },
  {
   "cell_type": "markdown",
   "metadata": {},
   "source": [
    "## Extra Investigation"
   ]
  },
  {
   "cell_type": "markdown",
   "metadata": {},
   "source": [
    "In all the above questions we had a fix number(N=10) for time intervals. Now we will investigate how the number of time intervals affect the accuracy of our results. For our testing we test only for one metric \"graph distance\", because is the method with the lowest time complexity."
   ]
  },
  {
   "cell_type": "code",
   "execution_count": 88,
   "metadata": {},
   "outputs": [
    {
     "name": "stderr",
     "output_type": "stream",
     "text": [
      "C:\\Users\\geop\\Anaconda3\\lib\\site-packages\\ipykernel_launcher.py:16: FutureWarning: Sorting because non-concatenation axis is not aligned. A future version\n",
      "of pandas will change to not sort by default.\n",
      "\n",
      "To accept the future behavior, pass 'sort=True'.\n",
      "\n",
      "To retain the current behavior and silence the warning, pass sort=False\n",
      "\n",
      "  app.launch_new_instance()\n"
     ]
    },
    {
     "name": "stdout",
     "output_type": "stream",
     "text": [
      "('graph_distance', 0.9905055269049626, [4.0, 7.0])\n",
      "('graph_distance', 0.992922987647933, [4.0, 7.0])\n",
      "('graph_distance', 0.9905055269049626, [4.0, 7.0])\n",
      "('graph_distance', 0.992922987647933, [4.0, 7.0])\n",
      "('graph_distance', 0.8788299624758869, [3.0, 4.0])\n",
      "('graph_distance', 0.8822642691667829, [3.0, 4.0])\n",
      "('graph_distance', 0.9905055269049626, [4.0, 7.0])\n",
      "('graph_distance', 0.992922987647933, [4.0, 7.0])\n",
      "('graph_distance', 0.9905055269049626, [4.0, 7.0])\n",
      "('graph_distance', 0.992922987647933, [4.0, 7.0])\n",
      "('graph_distance', 0.9905055269049626, [4.0, 7.0])\n",
      "('graph_distance', 0.992922987647933, [4.0, 7.0])\n",
      "('graph_distance', 0.9024408289837597, [4.0, 8.0])\n",
      "('graph_distance', 0.9051729174567816, [4.0, inf])\n",
      "('graph_distance', 0.9024408289837597, [4.0, 8.0])\n",
      "('graph_distance', 0.9051729174567816, [4.0, inf])\n",
      "('graph_distance', 0.9024408289837597, [4.0, 8.0])\n",
      "('graph_distance', 0.9051729174567816, [4.0, inf])\n",
      "('graph_distance', 0.9905055269049626, [5.0, inf])\n",
      "('graph_distance', 0.992922987647933, [5.0, inf])\n",
      "('graph_distance', 0.9905055269049626, [5.0, inf])\n",
      "('graph_distance', 0.992922987647933, [5.0, inf])\n",
      "('graph_distance', 0.9905055269049626, [5.0, inf])\n",
      "('graph_distance', 0.992922987647933, [5.0, inf])\n",
      "('graph_distance', 0.9905055269049626, [5.0, inf])\n",
      "('graph_distance', 0.992922987647933, [5.0, inf])\n",
      "('graph_distance', 0.9905055269049626, [5.0, inf])\n",
      "('graph_distance', 0.992922987647933, [5.0, inf])\n",
      "('graph_distance', 0.9905055269049626, [5.0, inf])\n",
      "('graph_distance', 0.992922987647933, [5.0, inf])\n",
      "('graph_distance', 0.9024408289837597, [4.0, inf])\n",
      "('graph_distance', 0.9051729174567816, [4.0, inf])\n",
      "('graph_distance', 0.9024408289837597, [4.0, inf])\n",
      "('graph_distance', 0.9051729174567816, [4.0, inf])\n",
      "('graph_distance', 0.9024408289837597, [4.0, inf])\n",
      "('graph_distance', 0.9051729174567816, [4.0, inf])\n",
      "('graph_distance', 0.9024408289837597, [4.0, inf])\n",
      "('graph_distance', 0.9051729174567816, [4.0, inf])\n",
      "('graph_distance', 0.9905055269049626, [5.0, inf])\n",
      "('graph_distance', 0.992922987647933, [5.0, inf])\n",
      "('graph_distance', 0.9535004510185342, [5.0, inf])\n",
      "('graph_distance', 0.9560391765762233, [5.0, inf])\n",
      "('graph_distance', 0.9535004510185342, [5.0, inf])\n",
      "('graph_distance', 0.9560391765762233, [5.0, inf])\n",
      "('graph_distance', 0.9535004510185342, [5.0, inf])\n",
      "('graph_distance', 0.9560391765762233, [5.0, inf])\n",
      "('graph_distance', 0.8788299624758869, [3.0, 4.0])\n",
      "('graph_distance', 0.8822642691667829, [3.0, 4.0])\n",
      "('graph_distance', 0.9905055269049626, [3.0, 4.0])\n",
      "('graph_distance', 0.992922987647933, [3.0, 4.0])\n",
      "('graph_distance', 0.9471702597350872, [2.0, 3.0])\n",
      "('graph_distance', 0.9501582867849485, [2.0, 3.0])\n",
      "('graph_distance', 0.9471702597350872, [2.0, 3.0])\n",
      "('graph_distance', 0.9501582867849485, [2.0, 3.0])\n",
      "('graph_distance', 0.9905055269049626, [2.0, 3.0])\n",
      "('graph_distance', 0.992922987647933, [2.0, 3.0])\n",
      "('graph_distance', 0.9881885261781729, [0.0, 2.0])\n",
      "('graph_distance', 0.984373107968341, [0.0, 2.0])\n",
      "('graph_distance', 0.9905055269049626, [0.0, 1.0])\n",
      "('graph_distance', 0.992922987647933, [0.0, 1.0])\n",
      "('graph_distance', 0.9905055269049626, [0.0, 1.0])\n",
      "('graph_distance', 0.992922987647933, [0.0, 1.0])\n",
      "('graph_distance', 0.9905055269049626, [0.0, 1.0])\n",
      "('graph_distance', 0.992922987647933, [0.0, 1.0])\n",
      "('graph_distance', 0.9905055269049626, [0.0, 1.0])\n",
      "('graph_distance', 0.992922987647933, [0.0, 1.0])\n",
      "('graph_distance', 0.9905055269049626, [0.0, 1.0])\n",
      "('graph_distance', 0.992922987647933, [0.0, 1.0])\n",
      "('graph_distance', 0.9905055269049626, [0.0, 1.0])\n",
      "('graph_distance', 0.992922987647933, [0.0, 1.0])\n",
      "('graph_distance', 0.9905055269049626, [0.0, 1.0])\n",
      "('graph_distance', 0.992922987647933, [0.0, 1.0])\n",
      "('graph_distance', 0.9905055269049626, [0.0, 1.0])\n",
      "('graph_distance', 0.992922987647933, [0.0, 1.0])\n",
      "('graph_distance', 0.9905055269049626, [0.0, 1.0])\n",
      "('graph_distance', 0.992922987647933, [0.0, 1.0])\n",
      "('graph_distance', 0.9905055269049626, [0.0, 1.0])\n",
      "('graph_distance', 0.992922987647933, [0.0, 1.0])\n",
      "('graph_distance', 0.9905055269049626, [0.0, 1.0])\n",
      "('graph_distance', 0.992922987647933, [0.0, 1.0])\n",
      "('graph_distance', 0.9905055269049626, [0.0, 1.0])\n",
      "('graph_distance', 0.992922987647933, [0.0, 1.0])\n",
      "('graph_distance', 0.9905055269049626, [0.0, 1.0])\n",
      "('graph_distance', 0.992922987647933, [0.0, 1.0])\n",
      "('graph_distance', 0.9905055269049626, [0.0, 1.0])\n",
      "('graph_distance', 0.992922987647933, [0.0, 1.0])\n",
      "('graph_distance', 0.9905055269049626, [0.0, 1.0])\n",
      "('graph_distance', 0.992922987647933, [0.0, 1.0])\n",
      "('graph_distance', 0.9905055269049626, [0.0, 1.0])\n",
      "('graph_distance', 0.992922987647933, [0.0, 1.0])\n",
      "('graph_distance', 0.9905055269049626, [0.0, 1.0])\n",
      "('graph_distance', 0.992922987647933, [0.0, 1.0])\n",
      "('graph_distance', 0.9905055269049626, [0.0, 1.0])\n",
      "('graph_distance', 0.992922987647933, [0.0, 1.0])\n",
      "('graph_distance', 0.9905055269049626, [0.0, 1.0])\n",
      "('graph_distance', 0.992922987647933, [0.0, 1.0])\n",
      "('graph_distance', 0.9905055269049626, [0.0, 1.0])\n",
      "('graph_distance', 0.992922987647933, [0.0, 1.0])\n"
     ]
    }
   ],
   "source": [
    "results_prev=list()\n",
    "results_next=list()\n",
    "max_number_N=50\n",
    "dataset=data.iloc[0:5000]\n",
    "\n",
    "for N in range(1,max_number_N):\n",
    "    result_prev=calculate_R_range(graph_distance,Graph_Distance_prev_ACC,dataset,N, 10)\n",
    "    print(result_prev)\n",
    "    result_next=calculate_R_range(graph_distance,Graph_Distance_next_ACC,dataset,N, 10)\n",
    "    print(result_next)\n",
    "    results_prev.append(result_prev[1])\n",
    "    results_next.append(result_next[1])"
   ]
  },
  {
   "cell_type": "code",
   "execution_count": 91,
   "metadata": {},
   "outputs": [
    {
     "data": {
      "image/png": "[encoded data removed]",
      "text/plain": [
       "<Figure size 1440x360 with 1 Axes>"
      ]
     },
     "metadata": {},
     "output_type": "display_data"
    }
   ],
   "source": [
    "# Create a figure instance\n",
    "fig = plt.figure(1, figsize=(20, 5))\n",
    "\n",
    "ind = np.arange(max_number_N-1) \n",
    "width = 0.35      \n",
    "\n",
    "plt.bar(ind, results_prev, width, label='training data')\n",
    "plt.bar(ind + width, results_next, width,\n",
    "    label='testing data')\n",
    "\n",
    "plt.xlabel(\"Number of intervals\")\n",
    "plt.ylabel(\"Accuracy\")\n",
    "plt.title(\"Accuracy(N)\")\n",
    "\n",
    "plt.xticks(ind + width / 2,range(1,max_number_N))\n",
    "plt.legend(loc='best')\n",
    "plt.show()"
   ]
  },
  {
   "cell_type": "markdown",
   "metadata": {},
   "source": [
    "As we can see as we change the number of intervals and accordingly the number of nodes and edges which we take into consideration the accuracy is not affected significantly."
   ]
  }
 ],
 "metadata": {
  "kernelspec": {
   "display_name": "Python 3",
   "language": "python",
   "name": "python3"
  },
  "language_info": {
   "codemirror_mode": {
    "name": "ipython",
    "version": 3
   },
   "file_extension": ".py",
   "mimetype": "text/x-python",
   "name": "python",
   "nbconvert_exporter": "python",
   "pygments_lexer": "ipython3",
   "version": "3.6.5"
  }
 },
 "nbformat": 4,
 "nbformat_minor": 2
}
